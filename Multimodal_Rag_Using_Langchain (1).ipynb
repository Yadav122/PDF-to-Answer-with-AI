{
  "nbformat": 4,
  "nbformat_minor": 0,
  "metadata": {
    "colab": {
      "provenance": []
    },
    "kernelspec": {
      "name": "python3",
      "display_name": "Python 3"
    },
    "language_info": {
      "name": "python"
    }
  },
  "cells": [
    {
      "cell_type": "code",
      "execution_count": null,
      "metadata": {
        "colab": {
          "base_uri": "https://localhost:8080/"
        },
        "id": "Ao3b-yTC9-SH",
        "outputId": "fb1ad31f-e4d9-4bc6-a4ca-9c22724714dc"
      },
      "outputs": [
        {
          "output_type": "stream",
          "name": "stdout",
          "text": [
            "Reading package lists... Done\n",
            "Building dependency tree... Done\n",
            "Reading state information... Done\n",
            "tesseract-ocr is already the newest version (4.1.1-2.1build1).\n",
            "0 upgraded, 0 newly installed, 0 to remove and 45 not upgraded.\n",
            "Reading package lists... Done\n",
            "Building dependency tree... Done\n",
            "Reading state information... Done\n",
            "libtesseract-dev is already the newest version (4.1.1-2.1build1).\n",
            "0 upgraded, 0 newly installed, 0 to remove and 45 not upgraded.\n",
            "Reading package lists... Done\n",
            "Building dependency tree... Done\n",
            "Reading state information... Done\n",
            "poppler-utils is already the newest version (22.02.0-2ubuntu0.4).\n",
            "0 upgraded, 0 newly installed, 0 to remove and 45 not upgraded.\n",
            "Collecting langchain_community\n",
            "  Downloading langchain_community-0.2.2-py3-none-any.whl (2.2 MB)\n",
            "\u001b[2K     \u001b[90m━━━━━━━━━━━━━━━━━━━━━━━━━━━━━━━━━━━━━━━━\u001b[0m \u001b[32m2.2/2.2 MB\u001b[0m \u001b[31m11.2 MB/s\u001b[0m eta \u001b[36m0:00:00\u001b[0m\n",
            "\u001b[?25hRequirement already satisfied: PyYAML>=5.3 in /usr/local/lib/python3.10/dist-packages (from langchain_community) (6.0.1)\n",
            "Requirement already satisfied: SQLAlchemy<3,>=1.4 in /usr/local/lib/python3.10/dist-packages (from langchain_community) (2.0.30)\n",
            "Requirement already satisfied: aiohttp<4.0.0,>=3.8.3 in /usr/local/lib/python3.10/dist-packages (from langchain_community) (3.9.5)\n",
            "Requirement already satisfied: dataclasses-json<0.7,>=0.5.7 in /usr/local/lib/python3.10/dist-packages (from langchain_community) (0.6.6)\n",
            "Requirement already satisfied: langchain<0.3.0,>=0.2.0 in /usr/local/lib/python3.10/dist-packages (from langchain_community) (0.2.2)\n",
            "Requirement already satisfied: langchain-core<0.3.0,>=0.2.0 in /usr/local/lib/python3.10/dist-packages (from langchain_community) (0.2.4)\n",
            "Requirement already satisfied: langsmith<0.2.0,>=0.1.0 in /usr/local/lib/python3.10/dist-packages (from langchain_community) (0.1.71)\n",
            "Requirement already satisfied: numpy<2,>=1 in /usr/local/lib/python3.10/dist-packages (from langchain_community) (1.25.2)\n",
            "Requirement already satisfied: requests<3,>=2 in /usr/local/lib/python3.10/dist-packages (from langchain_community) (2.31.0)\n",
            "Requirement already satisfied: tenacity<9.0.0,>=8.1.0 in /usr/local/lib/python3.10/dist-packages (from langchain_community) (8.3.0)\n",
            "Requirement already satisfied: aiosignal>=1.1.2 in /usr/local/lib/python3.10/dist-packages (from aiohttp<4.0.0,>=3.8.3->langchain_community) (1.3.1)\n",
            "Requirement already satisfied: attrs>=17.3.0 in /usr/local/lib/python3.10/dist-packages (from aiohttp<4.0.0,>=3.8.3->langchain_community) (23.2.0)\n",
            "Requirement already satisfied: frozenlist>=1.1.1 in /usr/local/lib/python3.10/dist-packages (from aiohttp<4.0.0,>=3.8.3->langchain_community) (1.4.1)\n",
            "Requirement already satisfied: multidict<7.0,>=4.5 in /usr/local/lib/python3.10/dist-packages (from aiohttp<4.0.0,>=3.8.3->langchain_community) (6.0.5)\n",
            "Requirement already satisfied: yarl<2.0,>=1.0 in /usr/local/lib/python3.10/dist-packages (from aiohttp<4.0.0,>=3.8.3->langchain_community) (1.9.4)\n",
            "Requirement already satisfied: async-timeout<5.0,>=4.0 in /usr/local/lib/python3.10/dist-packages (from aiohttp<4.0.0,>=3.8.3->langchain_community) (4.0.3)\n",
            "Requirement already satisfied: marshmallow<4.0.0,>=3.18.0 in /usr/local/lib/python3.10/dist-packages (from dataclasses-json<0.7,>=0.5.7->langchain_community) (3.21.2)\n",
            "Requirement already satisfied: typing-inspect<1,>=0.4.0 in /usr/local/lib/python3.10/dist-packages (from dataclasses-json<0.7,>=0.5.7->langchain_community) (0.9.0)\n",
            "Requirement already satisfied: langchain-text-splitters<0.3.0,>=0.2.0 in /usr/local/lib/python3.10/dist-packages (from langchain<0.3.0,>=0.2.0->langchain_community) (0.2.1)\n",
            "Requirement already satisfied: pydantic<3,>=1 in /usr/local/lib/python3.10/dist-packages (from langchain<0.3.0,>=0.2.0->langchain_community) (2.7.2)\n",
            "Requirement already satisfied: jsonpatch<2.0,>=1.33 in /usr/local/lib/python3.10/dist-packages (from langchain-core<0.3.0,>=0.2.0->langchain_community) (1.33)\n",
            "Requirement already satisfied: packaging<24.0,>=23.2 in /usr/local/lib/python3.10/dist-packages (from langchain-core<0.3.0,>=0.2.0->langchain_community) (23.2)\n",
            "Requirement already satisfied: orjson<4.0.0,>=3.9.14 in /usr/local/lib/python3.10/dist-packages (from langsmith<0.2.0,>=0.1.0->langchain_community) (3.10.3)\n",
            "Requirement already satisfied: charset-normalizer<4,>=2 in /usr/local/lib/python3.10/dist-packages (from requests<3,>=2->langchain_community) (3.3.2)\n",
            "Requirement already satisfied: idna<4,>=2.5 in /usr/local/lib/python3.10/dist-packages (from requests<3,>=2->langchain_community) (3.7)\n",
            "Requirement already satisfied: urllib3<3,>=1.21.1 in /usr/local/lib/python3.10/dist-packages (from requests<3,>=2->langchain_community) (2.0.7)\n",
            "Requirement already satisfied: certifi>=2017.4.17 in /usr/local/lib/python3.10/dist-packages (from requests<3,>=2->langchain_community) (2024.2.2)\n",
            "Requirement already satisfied: typing-extensions>=4.6.0 in /usr/local/lib/python3.10/dist-packages (from SQLAlchemy<3,>=1.4->langchain_community) (4.12.0)\n",
            "Requirement already satisfied: greenlet!=0.4.17 in /usr/local/lib/python3.10/dist-packages (from SQLAlchemy<3,>=1.4->langchain_community) (3.0.3)\n",
            "Requirement already satisfied: jsonpointer>=1.9 in /usr/local/lib/python3.10/dist-packages (from jsonpatch<2.0,>=1.33->langchain-core<0.3.0,>=0.2.0->langchain_community) (2.4)\n",
            "Requirement already satisfied: annotated-types>=0.4.0 in /usr/local/lib/python3.10/dist-packages (from pydantic<3,>=1->langchain<0.3.0,>=0.2.0->langchain_community) (0.7.0)\n",
            "Requirement already satisfied: pydantic-core==2.18.3 in /usr/local/lib/python3.10/dist-packages (from pydantic<3,>=1->langchain<0.3.0,>=0.2.0->langchain_community) (2.18.3)\n",
            "Requirement already satisfied: mypy-extensions>=0.3.0 in /usr/local/lib/python3.10/dist-packages (from typing-inspect<1,>=0.4.0->dataclasses-json<0.7,>=0.5.7->langchain_community) (1.0.0)\n",
            "Installing collected packages: langchain_community\n",
            "Successfully installed langchain_community-0.2.2\n"
          ]
        }
      ],
      "source": [
        "!sudo apt install tesseract-ocr -y\n",
        "!sudo apt install libtesseract-dev -y\n",
        "!sudo apt-get install poppler-utils -y\n",
        "!pip install langchain_community"
      ]
    },
    {
      "cell_type": "code",
      "source": [
        "!pip install langchain unstructured[all-docs] pydantic lxml openai chromadb tiktoken opencv-python"
      ],
      "metadata": {
        "colab": {
          "base_uri": "https://localhost:8080/",
          "height": 1000
        },
        "id": "8uzKJ1hB-h-o",
        "outputId": "a849336f-25e6-4857-9220-82da23c89247"
      },
      "execution_count": null,
      "outputs": [
        {
          "output_type": "stream",
          "name": "stdout",
          "text": [
            "Collecting langchain\n",
            "  Downloading langchain-0.2.2-py3-none-any.whl (973 kB)\n",
            "\u001b[2K     \u001b[90m━━━━━━━━━━━━━━━━━━━━━━━━━━━━━━━━━━━━━━━━\u001b[0m \u001b[32m973.6/973.6 kB\u001b[0m \u001b[31m8.9 MB/s\u001b[0m eta \u001b[36m0:00:00\u001b[0m\n",
            "\u001b[?25hCollecting unstructured[all-docs]\n",
            "  Downloading unstructured-0.14.4-py3-none-any.whl (2.0 MB)\n",
            "\u001b[2K     \u001b[90m━━━━━━━━━━━━━━━━━━━━━━━━━━━━━━━━━━━━━━━━\u001b[0m \u001b[32m2.0/2.0 MB\u001b[0m \u001b[31m18.3 MB/s\u001b[0m eta \u001b[36m0:00:00\u001b[0m\n",
            "\u001b[?25hRequirement already satisfied: pydantic in /usr/local/lib/python3.10/dist-packages (2.7.2)\n",
            "Requirement already satisfied: lxml in /usr/local/lib/python3.10/dist-packages (4.9.4)\n",
            "Collecting openai\n",
            "  Downloading openai-1.31.0-py3-none-any.whl (324 kB)\n",
            "\u001b[2K     \u001b[90m━━━━━━━━━━━━━━━━━━━━━━━━━━━━━━━━━━━━━━━━\u001b[0m \u001b[32m324.1/324.1 kB\u001b[0m \u001b[31m19.9 MB/s\u001b[0m eta \u001b[36m0:00:00\u001b[0m\n",
            "\u001b[?25hCollecting chromadb\n",
            "  Downloading chromadb-0.5.0-py3-none-any.whl (526 kB)\n",
            "\u001b[2K     \u001b[90m━━━━━━━━━━━━━━━━━━━━━━━━━━━━━━━━━━━━━━━━\u001b[0m \u001b[32m526.8/526.8 kB\u001b[0m \u001b[31m23.6 MB/s\u001b[0m eta \u001b[36m0:00:00\u001b[0m\n",
            "\u001b[?25hCollecting tiktoken\n",
            "  Downloading tiktoken-0.7.0-cp310-cp310-manylinux_2_17_x86_64.manylinux2014_x86_64.whl (1.1 MB)\n",
            "\u001b[2K     \u001b[90m━━━━━━━━━━━━━━━━━━━━━━━━━━━━━━━━━━━━━━━━\u001b[0m \u001b[32m1.1/1.1 MB\u001b[0m \u001b[31m29.8 MB/s\u001b[0m eta \u001b[36m0:00:00\u001b[0m\n",
            "\u001b[?25hRequirement already satisfied: opencv-python in /usr/local/lib/python3.10/dist-packages (4.8.0.76)\n",
            "Requirement already satisfied: PyYAML>=5.3 in /usr/local/lib/python3.10/dist-packages (from langchain) (6.0.1)\n",
            "Requirement already satisfied: SQLAlchemy<3,>=1.4 in /usr/local/lib/python3.10/dist-packages (from langchain) (2.0.30)\n",
            "Requirement already satisfied: aiohttp<4.0.0,>=3.8.3 in /usr/local/lib/python3.10/dist-packages (from langchain) (3.9.5)\n",
            "Requirement already satisfied: async-timeout<5.0.0,>=4.0.0 in /usr/local/lib/python3.10/dist-packages (from langchain) (4.0.3)\n",
            "Collecting langchain-core<0.3.0,>=0.2.0 (from langchain)\n",
            "  Downloading langchain_core-0.2.4-py3-none-any.whl (310 kB)\n",
            "\u001b[2K     \u001b[90m━━━━━━━━━━━━━━━━━━━━━━━━━━━━━━━━━━━━━━━━\u001b[0m \u001b[32m310.4/310.4 kB\u001b[0m \u001b[31m23.0 MB/s\u001b[0m eta \u001b[36m0:00:00\u001b[0m\n",
            "\u001b[?25hCollecting langchain-text-splitters<0.3.0,>=0.2.0 (from langchain)\n",
            "  Downloading langchain_text_splitters-0.2.1-py3-none-any.whl (23 kB)\n",
            "Collecting langsmith<0.2.0,>=0.1.17 (from langchain)\n",
            "  Downloading langsmith-0.1.71-py3-none-any.whl (124 kB)\n",
            "\u001b[2K     \u001b[90m━━━━━━━━━━━━━━━━━━━━━━━━━━━━━━━━━━━━━━━━\u001b[0m \u001b[32m124.6/124.6 kB\u001b[0m \u001b[31m12.5 MB/s\u001b[0m eta \u001b[36m0:00:00\u001b[0m\n",
            "\u001b[?25hRequirement already satisfied: numpy<2,>=1 in /usr/local/lib/python3.10/dist-packages (from langchain) (1.25.2)\n",
            "Requirement already satisfied: requests<3,>=2 in /usr/local/lib/python3.10/dist-packages (from langchain) (2.31.0)\n",
            "Requirement already satisfied: tenacity<9.0.0,>=8.1.0 in /usr/local/lib/python3.10/dist-packages (from langchain) (8.3.0)\n",
            "Requirement already satisfied: chardet in /usr/local/lib/python3.10/dist-packages (from unstructured[all-docs]) (5.2.0)\n",
            "Collecting filetype (from unstructured[all-docs])\n",
            "  Downloading filetype-1.2.0-py2.py3-none-any.whl (19 kB)\n",
            "Collecting python-magic (from unstructured[all-docs])\n",
            "  Downloading python_magic-0.4.27-py2.py3-none-any.whl (13 kB)\n",
            "Requirement already satisfied: nltk in /usr/local/lib/python3.10/dist-packages (from unstructured[all-docs]) (3.8.1)\n",
            "Requirement already satisfied: tabulate in /usr/local/lib/python3.10/dist-packages (from unstructured[all-docs]) (0.9.0)\n",
            "Requirement already satisfied: beautifulsoup4 in /usr/local/lib/python3.10/dist-packages (from unstructured[all-docs]) (4.12.3)\n",
            "Collecting emoji (from unstructured[all-docs])\n",
            "  Downloading emoji-2.12.1-py3-none-any.whl (431 kB)\n",
            "\u001b[2K     \u001b[90m━━━━━━━━━━━━━━━━━━━━━━━━━━━━━━━━━━━━━━━━\u001b[0m \u001b[32m431.4/431.4 kB\u001b[0m \u001b[31m27.2 MB/s\u001b[0m eta \u001b[36m0:00:00\u001b[0m\n",
            "\u001b[?25hCollecting dataclasses-json (from unstructured[all-docs])\n",
            "  Downloading dataclasses_json-0.6.6-py3-none-any.whl (28 kB)\n",
            "Collecting python-iso639 (from unstructured[all-docs])\n",
            "  Downloading python_iso639-2024.4.27-py3-none-any.whl (274 kB)\n",
            "\u001b[2K     \u001b[90m━━━━━━━━━━━━━━━━━━━━━━━━━━━━━━━━━━━━━━━━\u001b[0m \u001b[32m274.7/274.7 kB\u001b[0m \u001b[31m30.1 MB/s\u001b[0m eta \u001b[36m0:00:00\u001b[0m\n",
            "\u001b[?25hCollecting langdetect (from unstructured[all-docs])\n",
            "  Downloading langdetect-1.0.9.tar.gz (981 kB)\n",
            "\u001b[2K     \u001b[90m━━━━━━━━━━━━━━━━━━━━━━━━━━━━━━━━━━━━━━━━\u001b[0m \u001b[32m981.5/981.5 kB\u001b[0m \u001b[31m31.0 MB/s\u001b[0m eta \u001b[36m0:00:00\u001b[0m\n",
            "\u001b[?25h  Preparing metadata (setup.py) ... \u001b[?25l\u001b[?25hdone\n",
            "Collecting rapidfuzz (from unstructured[all-docs])\n",
            "  Downloading rapidfuzz-3.9.3-cp310-cp310-manylinux_2_17_x86_64.manylinux2014_x86_64.whl (3.4 MB)\n",
            "\u001b[2K     \u001b[90m━━━━━━━━━━━━━━━━━━━━━━━━━━━━━━━━━━━━━━━━\u001b[0m \u001b[32m3.4/3.4 MB\u001b[0m \u001b[31m51.7 MB/s\u001b[0m eta \u001b[36m0:00:00\u001b[0m\n",
            "\u001b[?25hCollecting backoff (from unstructured[all-docs])\n",
            "  Downloading backoff-2.2.1-py3-none-any.whl (15 kB)\n",
            "Requirement already satisfied: typing-extensions in /usr/local/lib/python3.10/dist-packages (from unstructured[all-docs]) (4.12.0)\n",
            "Collecting unstructured-client (from unstructured[all-docs])\n",
            "  Downloading unstructured_client-0.23.0-py3-none-any.whl (40 kB)\n",
            "\u001b[2K     \u001b[90m━━━━━━━━━━━━━━━━━━━━━━━━━━━━━━━━━━━━━━━━\u001b[0m \u001b[32m40.1/40.1 kB\u001b[0m \u001b[31m5.1 MB/s\u001b[0m eta \u001b[36m0:00:00\u001b[0m\n",
            "\u001b[?25hRequirement already satisfied: wrapt in /usr/local/lib/python3.10/dist-packages (from unstructured[all-docs]) (1.14.1)\n",
            "Collecting pypandoc (from unstructured[all-docs])\n",
            "  Downloading pypandoc-1.13-py3-none-any.whl (21 kB)\n",
            "Requirement already satisfied: networkx in /usr/local/lib/python3.10/dist-packages (from unstructured[all-docs]) (3.3)\n",
            "Collecting pypdf (from unstructured[all-docs])\n",
            "  Downloading pypdf-4.2.0-py3-none-any.whl (290 kB)\n",
            "\u001b[2K     \u001b[90m━━━━━━━━━━━━━━━━━━━━━━━━━━━━━━━━━━━━━━━━\u001b[0m \u001b[32m290.4/290.4 kB\u001b[0m \u001b[31m25.4 MB/s\u001b[0m eta \u001b[36m0:00:00\u001b[0m\n",
            "\u001b[?25hCollecting pdfminer.six (from unstructured[all-docs])\n",
            "  Downloading pdfminer.six-20231228-py3-none-any.whl (5.6 MB)\n",
            "\u001b[2K     \u001b[90m━━━━━━━━━━━━━━━━━━━━━━━━━━━━━━━━━━━━━━━━\u001b[0m \u001b[32m5.6/5.6 MB\u001b[0m \u001b[31m57.2 MB/s\u001b[0m eta \u001b[36m0:00:00\u001b[0m\n",
            "\u001b[?25hCollecting effdet (from unstructured[all-docs])\n",
            "  Downloading effdet-0.4.1-py3-none-any.whl (112 kB)\n",
            "\u001b[2K     \u001b[90m━━━━━━━━━━━━━━━━━━━━━━━━━━━━━━━━━━━━━━━━\u001b[0m \u001b[32m112.5/112.5 kB\u001b[0m \u001b[31m14.2 MB/s\u001b[0m eta \u001b[36m0:00:00\u001b[0m\n",
            "\u001b[?25hCollecting onnx (from unstructured[all-docs])\n",
            "  Downloading onnx-1.16.1-cp310-cp310-manylinux_2_17_x86_64.manylinux2014_x86_64.whl (15.9 MB)\n",
            "\u001b[2K     \u001b[90m━━━━━━━━━━━━━━━━━━━━━━━━━━━━━━━━━━━━━━━━\u001b[0m \u001b[32m15.9/15.9 MB\u001b[0m \u001b[31m50.4 MB/s\u001b[0m eta \u001b[36m0:00:00\u001b[0m\n",
            "\u001b[?25hCollecting pillow-heif (from unstructured[all-docs])\n",
            "  Downloading pillow_heif-0.16.0-cp310-cp310-manylinux_2_17_x86_64.manylinux2014_x86_64.whl (7.5 MB)\n",
            "\u001b[2K     \u001b[90m━━━━━━━━━━━━━━━━━━━━━━━━━━━━━━━━━━━━━━━━\u001b[0m \u001b[32m7.5/7.5 MB\u001b[0m \u001b[31m52.4 MB/s\u001b[0m eta \u001b[36m0:00:00\u001b[0m\n",
            "\u001b[?25hRequirement already satisfied: markdown in /usr/local/lib/python3.10/dist-packages (from unstructured[all-docs]) (3.6)\n",
            "Collecting pytesseract (from unstructured[all-docs])\n",
            "  Downloading pytesseract-0.3.10-py3-none-any.whl (14 kB)\n",
            "Collecting python-docx>=1.1.2 (from unstructured[all-docs])\n",
            "  Downloading python_docx-1.1.2-py3-none-any.whl (244 kB)\n",
            "\u001b[2K     \u001b[90m━━━━━━━━━━━━━━━━━━━━━━━━━━━━━━━━━━━━━━━━\u001b[0m \u001b[32m244.3/244.3 kB\u001b[0m \u001b[31m23.5 MB/s\u001b[0m eta \u001b[36m0:00:00\u001b[0m\n",
            "\u001b[?25hCollecting pikepdf (from unstructured[all-docs])\n",
            "  Downloading pikepdf-9.0.0-cp310-cp310-manylinux_2_17_x86_64.manylinux2014_x86_64.whl (2.4 MB)\n",
            "\u001b[2K     \u001b[90m━━━━━━━━━━━━━━━━━━━━━━━━━━━━━━━━━━━━━━━━\u001b[0m \u001b[32m2.4/2.4 MB\u001b[0m \u001b[31m81.9 MB/s\u001b[0m eta \u001b[36m0:00:00\u001b[0m\n",
            "\u001b[?25hCollecting google-cloud-vision (from unstructured[all-docs])\n",
            "  Downloading google_cloud_vision-3.7.2-py2.py3-none-any.whl (459 kB)\n",
            "\u001b[2K     \u001b[90m━━━━━━━━━━━━━━━━━━━━━━━━━━━━━━━━━━━━━━━━\u001b[0m \u001b[32m459.6/459.6 kB\u001b[0m \u001b[31m41.6 MB/s\u001b[0m eta \u001b[36m0:00:00\u001b[0m\n",
            "\u001b[?25hCollecting pdf2image (from unstructured[all-docs])\n",
            "  Downloading pdf2image-1.17.0-py3-none-any.whl (11 kB)\n",
            "Collecting msg-parser (from unstructured[all-docs])\n",
            "  Downloading msg_parser-1.2.0-py2.py3-none-any.whl (101 kB)\n",
            "\u001b[2K     \u001b[90m━━━━━━━━━━━━━━━━━━━━━━━━━━━━━━━━━━━━━━━━\u001b[0m \u001b[32m101.8/101.8 kB\u001b[0m \u001b[31m13.1 MB/s\u001b[0m eta \u001b[36m0:00:00\u001b[0m\n",
            "\u001b[?25hRequirement already satisfied: pandas in /usr/local/lib/python3.10/dist-packages (from unstructured[all-docs]) (2.0.3)\n",
            "Collecting unstructured.pytesseract>=0.3.12 (from unstructured[all-docs])\n",
            "  Downloading unstructured.pytesseract-0.3.12-py3-none-any.whl (14 kB)\n",
            "Requirement already satisfied: xlrd in /usr/local/lib/python3.10/dist-packages (from unstructured[all-docs]) (2.0.1)\n",
            "Collecting python-pptx<=0.6.23 (from unstructured[all-docs])\n",
            "  Downloading python_pptx-0.6.23-py3-none-any.whl (471 kB)\n",
            "\u001b[2K     \u001b[90m━━━━━━━━━━━━━━━━━━━━━━━━━━━━━━━━━━━━━━━━\u001b[0m \u001b[32m471.6/471.6 kB\u001b[0m \u001b[31m45.5 MB/s\u001b[0m eta \u001b[36m0:00:00\u001b[0m\n",
            "\u001b[?25hCollecting unstructured-inference==0.7.33 (from unstructured[all-docs])\n",
            "  Downloading unstructured_inference-0.7.33-py3-none-any.whl (56 kB)\n",
            "\u001b[2K     \u001b[90m━━━━━━━━━━━━━━━━━━━━━━━━━━━━━━━━━━━━━━━━\u001b[0m \u001b[32m56.2/56.2 kB\u001b[0m \u001b[31m7.7 MB/s\u001b[0m eta \u001b[36m0:00:00\u001b[0m\n",
            "\u001b[?25hRequirement already satisfied: openpyxl in /usr/local/lib/python3.10/dist-packages (from unstructured[all-docs]) (3.1.3)\n",
            "Collecting layoutparser (from unstructured-inference==0.7.33->unstructured[all-docs])\n",
            "  Downloading layoutparser-0.3.4-py3-none-any.whl (19.2 MB)\n",
            "\u001b[2K     \u001b[90m━━━━━━━━━━━━━━━━━━━━━━━━━━━━━━━━━━━━━━━━\u001b[0m \u001b[32m19.2/19.2 MB\u001b[0m \u001b[31m25.7 MB/s\u001b[0m eta \u001b[36m0:00:00\u001b[0m\n",
            "\u001b[?25hCollecting python-multipart (from unstructured-inference==0.7.33->unstructured[all-docs])\n",
            "  Downloading python_multipart-0.0.9-py3-none-any.whl (22 kB)\n",
            "Requirement already satisfied: huggingface-hub in /usr/local/lib/python3.10/dist-packages (from unstructured-inference==0.7.33->unstructured[all-docs]) (0.23.2)\n",
            "Collecting onnxruntime>=1.17.0 (from unstructured-inference==0.7.33->unstructured[all-docs])\n",
            "  Downloading onnxruntime-1.18.0-cp310-cp310-manylinux_2_27_x86_64.manylinux_2_28_x86_64.whl (6.8 MB)\n",
            "\u001b[2K     \u001b[90m━━━━━━━━━━━━━━━━━━━━━━━━━━━━━━━━━━━━━━━━\u001b[0m \u001b[32m6.8/6.8 MB\u001b[0m \u001b[31m95.4 MB/s\u001b[0m eta \u001b[36m0:00:00\u001b[0m\n",
            "\u001b[?25hRequirement already satisfied: matplotlib in /usr/local/lib/python3.10/dist-packages (from unstructured-inference==0.7.33->unstructured[all-docs]) (3.7.1)\n",
            "Requirement already satisfied: torch in /usr/local/lib/python3.10/dist-packages (from unstructured-inference==0.7.33->unstructured[all-docs]) (2.3.0+cu121)\n",
            "Collecting timm (from unstructured-inference==0.7.33->unstructured[all-docs])\n",
            "  Downloading timm-1.0.3-py3-none-any.whl (2.3 MB)\n",
            "\u001b[2K     \u001b[90m━━━━━━━━━━━━━━━━━━━━━━━━━━━━━━━━━━━━━━━━\u001b[0m \u001b[32m2.3/2.3 MB\u001b[0m \u001b[31m75.6 MB/s\u001b[0m eta \u001b[36m0:00:00\u001b[0m\n",
            "\u001b[?25hRequirement already satisfied: transformers>=4.25.1 in /usr/local/lib/python3.10/dist-packages (from unstructured-inference==0.7.33->unstructured[all-docs]) (4.41.1)\n",
            "Requirement already satisfied: annotated-types>=0.4.0 in /usr/local/lib/python3.10/dist-packages (from pydantic) (0.7.0)\n",
            "Requirement already satisfied: pydantic-core==2.18.3 in /usr/local/lib/python3.10/dist-packages (from pydantic) (2.18.3)\n",
            "Requirement already satisfied: anyio<5,>=3.5.0 in /usr/local/lib/python3.10/dist-packages (from openai) (3.7.1)\n",
            "Requirement already satisfied: distro<2,>=1.7.0 in /usr/lib/python3/dist-packages (from openai) (1.7.0)\n",
            "Collecting httpx<1,>=0.23.0 (from openai)\n",
            "  Downloading httpx-0.27.0-py3-none-any.whl (75 kB)\n",
            "\u001b[2K     \u001b[90m━━━━━━━━━━━━━━━━━━━━━━━━━━━━━━━━━━━━━━━━\u001b[0m \u001b[32m75.6/75.6 kB\u001b[0m \u001b[31m10.4 MB/s\u001b[0m eta \u001b[36m0:00:00\u001b[0m\n",
            "\u001b[?25hRequirement already satisfied: sniffio in /usr/local/lib/python3.10/dist-packages (from openai) (1.3.1)\n",
            "Requirement already satisfied: tqdm>4 in /usr/local/lib/python3.10/dist-packages (from openai) (4.66.4)\n",
            "Requirement already satisfied: build>=1.0.3 in /usr/local/lib/python3.10/dist-packages (from chromadb) (1.2.1)\n",
            "Collecting chroma-hnswlib==0.7.3 (from chromadb)\n",
            "  Downloading chroma_hnswlib-0.7.3-cp310-cp310-manylinux_2_17_x86_64.manylinux2014_x86_64.whl (2.4 MB)\n",
            "\u001b[2K     \u001b[90m━━━━━━━━━━━━━━━━━━━━━━━━━━━━━━━━━━━━━━━━\u001b[0m \u001b[32m2.4/2.4 MB\u001b[0m \u001b[31m78.7 MB/s\u001b[0m eta \u001b[36m0:00:00\u001b[0m\n",
            "\u001b[?25hCollecting fastapi>=0.95.2 (from chromadb)\n",
            "  Downloading fastapi-0.111.0-py3-none-any.whl (91 kB)\n",
            "\u001b[2K     \u001b[90m━━━━━━━━━━━━━━━━━━━━━━━━━━━━━━━━━━━━━━━━\u001b[0m \u001b[32m92.0/92.0 kB\u001b[0m \u001b[31m12.2 MB/s\u001b[0m eta \u001b[36m0:00:00\u001b[0m\n",
            "\u001b[?25hCollecting uvicorn[standard]>=0.18.3 (from chromadb)\n",
            "  Downloading uvicorn-0.30.1-py3-none-any.whl (62 kB)\n",
            "\u001b[2K     \u001b[90m━━━━━━━━━━━━━━━━━━━━━━━━━━━━━━━━━━━━━━━━\u001b[0m \u001b[32m62.4/62.4 kB\u001b[0m \u001b[31m8.5 MB/s\u001b[0m eta \u001b[36m0:00:00\u001b[0m\n",
            "\u001b[?25hCollecting posthog>=2.4.0 (from chromadb)\n",
            "  Downloading posthog-3.5.0-py2.py3-none-any.whl (41 kB)\n",
            "\u001b[2K     \u001b[90m━━━━━━━━━━━━━━━━━━━━━━━━━━━━━━━━━━━━━━━━\u001b[0m \u001b[32m41.3/41.3 kB\u001b[0m \u001b[31m5.1 MB/s\u001b[0m eta \u001b[36m0:00:00\u001b[0m\n",
            "\u001b[?25hCollecting opentelemetry-api>=1.2.0 (from chromadb)\n",
            "  Downloading opentelemetry_api-1.25.0-py3-none-any.whl (59 kB)\n",
            "\u001b[2K     \u001b[90m━━━━━━━━━━━━━━━━━━━━━━━━━━━━━━━━━━━━━━━━\u001b[0m \u001b[32m59.9/59.9 kB\u001b[0m \u001b[31m8.6 MB/s\u001b[0m eta \u001b[36m0:00:00\u001b[0m\n",
            "\u001b[?25hCollecting opentelemetry-exporter-otlp-proto-grpc>=1.2.0 (from chromadb)\n",
            "  Downloading opentelemetry_exporter_otlp_proto_grpc-1.25.0-py3-none-any.whl (18 kB)\n",
            "Collecting opentelemetry-instrumentation-fastapi>=0.41b0 (from chromadb)\n",
            "  Downloading opentelemetry_instrumentation_fastapi-0.46b0-py3-none-any.whl (11 kB)\n",
            "Collecting opentelemetry-sdk>=1.2.0 (from chromadb)\n",
            "  Downloading opentelemetry_sdk-1.25.0-py3-none-any.whl (107 kB)\n",
            "\u001b[2K     \u001b[90m━━━━━━━━━━━━━━━━━━━━━━━━━━━━━━━━━━━━━━━━\u001b[0m \u001b[32m107.0/107.0 kB\u001b[0m \u001b[31m13.2 MB/s\u001b[0m eta \u001b[36m0:00:00\u001b[0m\n",
            "\u001b[?25hRequirement already satisfied: tokenizers>=0.13.2 in /usr/local/lib/python3.10/dist-packages (from chromadb) (0.19.1)\n",
            "Collecting pypika>=0.48.9 (from chromadb)\n",
            "  Downloading PyPika-0.48.9.tar.gz (67 kB)\n",
            "\u001b[2K     \u001b[90m━━━━━━━━━━━━━━━━━━━━━━━━━━━━━━━━━━━━━━━━\u001b[0m \u001b[32m67.3/67.3 kB\u001b[0m \u001b[31m8.8 MB/s\u001b[0m eta \u001b[36m0:00:00\u001b[0m\n",
            "\u001b[?25h  Installing build dependencies ... \u001b[?25l\u001b[?25hdone\n",
            "  Getting requirements to build wheel ... \u001b[?25l\u001b[?25hdone\n",
            "  Preparing metadata (pyproject.toml) ... \u001b[?25l\u001b[?25hdone\n",
            "Collecting overrides>=7.3.1 (from chromadb)\n",
            "  Downloading overrides-7.7.0-py3-none-any.whl (17 kB)\n",
            "Requirement already satisfied: importlib-resources in /usr/local/lib/python3.10/dist-packages (from chromadb) (6.4.0)\n",
            "Requirement already satisfied: grpcio>=1.58.0 in /usr/local/lib/python3.10/dist-packages (from chromadb) (1.64.0)\n",
            "Collecting bcrypt>=4.0.1 (from chromadb)\n",
            "  Downloading bcrypt-4.1.3-cp39-abi3-manylinux_2_28_x86_64.whl (283 kB)\n",
            "\u001b[2K     \u001b[90m━━━━━━━━━━━━━━━━━━━━━━━━━━━━━━━━━━━━━━━━\u001b[0m \u001b[32m283.7/283.7 kB\u001b[0m \u001b[31m31.6 MB/s\u001b[0m eta \u001b[36m0:00:00\u001b[0m\n",
            "\u001b[?25hRequirement already satisfied: typer>=0.9.0 in /usr/local/lib/python3.10/dist-packages (from chromadb) (0.9.4)\n",
            "Collecting kubernetes>=28.1.0 (from chromadb)\n",
            "  Downloading kubernetes-29.0.0-py2.py3-none-any.whl (1.6 MB)\n",
            "\u001b[2K     \u001b[90m━━━━━━━━━━━━━━━━━━━━━━━━━━━━━━━━━━━━━━━━\u001b[0m \u001b[32m1.6/1.6 MB\u001b[0m \u001b[31m76.9 MB/s\u001b[0m eta \u001b[36m0:00:00\u001b[0m\n",
            "\u001b[?25hCollecting mmh3>=4.0.1 (from chromadb)\n",
            "  Downloading mmh3-4.1.0-cp310-cp310-manylinux_2_5_x86_64.manylinux1_x86_64.manylinux_2_17_x86_64.manylinux2014_x86_64.whl (67 kB)\n",
            "\u001b[2K     \u001b[90m━━━━━━━━━━━━━━━━━━━━━━━━━━━━━━━━━━━━━━━━\u001b[0m \u001b[32m67.6/67.6 kB\u001b[0m \u001b[31m8.5 MB/s\u001b[0m eta \u001b[36m0:00:00\u001b[0m\n",
            "\u001b[?25hCollecting orjson>=3.9.12 (from chromadb)\n",
            "  Downloading orjson-3.10.3-cp310-cp310-manylinux_2_17_x86_64.manylinux2014_x86_64.whl (142 kB)\n",
            "\u001b[2K     \u001b[90m━━━━━━━━━━━━━━━━━━━━━━━━━━━━━━━━━━━━━━━━\u001b[0m \u001b[32m142.5/142.5 kB\u001b[0m \u001b[31m18.5 MB/s\u001b[0m eta \u001b[36m0:00:00\u001b[0m\n",
            "\u001b[?25hRequirement already satisfied: regex>=2022.1.18 in /usr/local/lib/python3.10/dist-packages (from tiktoken) (2024.5.15)\n",
            "Requirement already satisfied: aiosignal>=1.1.2 in /usr/local/lib/python3.10/dist-packages (from aiohttp<4.0.0,>=3.8.3->langchain) (1.3.1)\n",
            "Requirement already satisfied: attrs>=17.3.0 in /usr/local/lib/python3.10/dist-packages (from aiohttp<4.0.0,>=3.8.3->langchain) (23.2.0)\n",
            "Requirement already satisfied: frozenlist>=1.1.1 in /usr/local/lib/python3.10/dist-packages (from aiohttp<4.0.0,>=3.8.3->langchain) (1.4.1)\n",
            "Requirement already satisfied: multidict<7.0,>=4.5 in /usr/local/lib/python3.10/dist-packages (from aiohttp<4.0.0,>=3.8.3->langchain) (6.0.5)\n",
            "Requirement already satisfied: yarl<2.0,>=1.0 in /usr/local/lib/python3.10/dist-packages (from aiohttp<4.0.0,>=3.8.3->langchain) (1.9.4)\n",
            "Requirement already satisfied: idna>=2.8 in /usr/local/lib/python3.10/dist-packages (from anyio<5,>=3.5.0->openai) (3.7)\n",
            "Requirement already satisfied: exceptiongroup in /usr/local/lib/python3.10/dist-packages (from anyio<5,>=3.5.0->openai) (1.2.1)\n",
            "Requirement already satisfied: packaging>=19.1 in /usr/local/lib/python3.10/dist-packages (from build>=1.0.3->chromadb) (24.0)\n",
            "Requirement already satisfied: pyproject_hooks in /usr/local/lib/python3.10/dist-packages (from build>=1.0.3->chromadb) (1.1.0)\n",
            "Requirement already satisfied: tomli>=1.1.0 in /usr/local/lib/python3.10/dist-packages (from build>=1.0.3->chromadb) (2.0.1)\n",
            "Collecting starlette<0.38.0,>=0.37.2 (from fastapi>=0.95.2->chromadb)\n",
            "  Downloading starlette-0.37.2-py3-none-any.whl (71 kB)\n",
            "\u001b[2K     \u001b[90m━━━━━━━━━━━━━━━━━━━━━━━━━━━━━━━━━━━━━━━━\u001b[0m \u001b[32m71.9/71.9 kB\u001b[0m \u001b[31m9.3 MB/s\u001b[0m eta \u001b[36m0:00:00\u001b[0m\n",
            "\u001b[?25hCollecting fastapi-cli>=0.0.2 (from fastapi>=0.95.2->chromadb)\n",
            "  Downloading fastapi_cli-0.0.4-py3-none-any.whl (9.5 kB)\n",
            "Requirement already satisfied: jinja2>=2.11.2 in /usr/local/lib/python3.10/dist-packages (from fastapi>=0.95.2->chromadb) (3.1.4)\n",
            "Collecting ujson!=4.0.2,!=4.1.0,!=4.2.0,!=4.3.0,!=5.0.0,!=5.1.0,>=4.0.1 (from fastapi>=0.95.2->chromadb)\n",
            "  Downloading ujson-5.10.0-cp310-cp310-manylinux_2_17_x86_64.manylinux2014_x86_64.whl (53 kB)\n",
            "\u001b[2K     \u001b[90m━━━━━━━━━━━━━━━━━━━━━━━━━━━━━━━━━━━━━━━━\u001b[0m \u001b[32m53.6/53.6 kB\u001b[0m \u001b[31m7.1 MB/s\u001b[0m eta \u001b[36m0:00:00\u001b[0m\n",
            "\u001b[?25hCollecting email_validator>=2.0.0 (from fastapi>=0.95.2->chromadb)\n",
            "  Downloading email_validator-2.1.1-py3-none-any.whl (30 kB)\n",
            "Requirement already satisfied: certifi in /usr/local/lib/python3.10/dist-packages (from httpx<1,>=0.23.0->openai) (2024.2.2)\n",
            "Collecting httpcore==1.* (from httpx<1,>=0.23.0->openai)\n",
            "  Downloading httpcore-1.0.5-py3-none-any.whl (77 kB)\n",
            "\u001b[2K     \u001b[90m━━━━━━━━━━━━━━━━━━━━━━━━━━━━━━━━━━━━━━━━\u001b[0m \u001b[32m77.9/77.9 kB\u001b[0m \u001b[31m10.6 MB/s\u001b[0m eta \u001b[36m0:00:00\u001b[0m\n",
            "\u001b[?25hCollecting h11<0.15,>=0.13 (from httpcore==1.*->httpx<1,>=0.23.0->openai)\n",
            "  Downloading h11-0.14.0-py3-none-any.whl (58 kB)\n",
            "\u001b[2K     \u001b[90m━━━━━━━━━━━━━━━━━━━━━━━━━━━━━━━━━━━━━━━━\u001b[0m \u001b[32m58.3/58.3 kB\u001b[0m \u001b[31m8.6 MB/s\u001b[0m eta \u001b[36m0:00:00\u001b[0m\n",
            "\u001b[?25hRequirement already satisfied: six>=1.9.0 in /usr/local/lib/python3.10/dist-packages (from kubernetes>=28.1.0->chromadb) (1.16.0)\n",
            "Requirement already satisfied: python-dateutil>=2.5.3 in /usr/local/lib/python3.10/dist-packages (from kubernetes>=28.1.0->chromadb) (2.8.2)\n",
            "Requirement already satisfied: google-auth>=1.0.1 in /usr/local/lib/python3.10/dist-packages (from kubernetes>=28.1.0->chromadb) (2.27.0)\n",
            "Requirement already satisfied: websocket-client!=0.40.0,!=0.41.*,!=0.42.*,>=0.32.0 in /usr/local/lib/python3.10/dist-packages (from kubernetes>=28.1.0->chromadb) (1.8.0)\n",
            "Requirement already satisfied: requests-oauthlib in /usr/local/lib/python3.10/dist-packages (from kubernetes>=28.1.0->chromadb) (1.3.1)\n",
            "Requirement already satisfied: oauthlib>=3.2.2 in /usr/local/lib/python3.10/dist-packages (from kubernetes>=28.1.0->chromadb) (3.2.2)\n",
            "Requirement already satisfied: urllib3>=1.24.2 in /usr/local/lib/python3.10/dist-packages (from kubernetes>=28.1.0->chromadb) (2.0.7)\n",
            "Collecting jsonpatch<2.0,>=1.33 (from langchain-core<0.3.0,>=0.2.0->langchain)\n",
            "  Downloading jsonpatch-1.33-py2.py3-none-any.whl (12 kB)\n",
            "Collecting packaging>=19.1 (from build>=1.0.3->chromadb)\n",
            "  Downloading packaging-23.2-py3-none-any.whl (53 kB)\n",
            "\u001b[2K     \u001b[90m━━━━━━━━━━━━━━━━━━━━━━━━━━━━━━━━━━━━━━━━\u001b[0m \u001b[32m53.0/53.0 kB\u001b[0m \u001b[31m7.6 MB/s\u001b[0m eta \u001b[36m0:00:00\u001b[0m\n",
            "\u001b[?25hCollecting coloredlogs (from onnxruntime>=1.17.0->unstructured-inference==0.7.33->unstructured[all-docs])\n",
            "  Downloading coloredlogs-15.0.1-py2.py3-none-any.whl (46 kB)\n",
            "\u001b[2K     \u001b[90m━━━━━━━━━━━━━━━━━━━━━━━━━━━━━━━━━━━━━━━━\u001b[0m \u001b[32m46.0/46.0 kB\u001b[0m \u001b[31m6.1 MB/s\u001b[0m eta \u001b[36m0:00:00\u001b[0m\n",
            "\u001b[?25hRequirement already satisfied: flatbuffers in /usr/local/lib/python3.10/dist-packages (from onnxruntime>=1.17.0->unstructured-inference==0.7.33->unstructured[all-docs]) (24.3.25)\n",
            "Requirement already satisfied: protobuf in /usr/local/lib/python3.10/dist-packages (from onnxruntime>=1.17.0->unstructured-inference==0.7.33->unstructured[all-docs]) (3.20.3)\n",
            "Requirement already satisfied: sympy in /usr/local/lib/python3.10/dist-packages (from onnxruntime>=1.17.0->unstructured-inference==0.7.33->unstructured[all-docs]) (1.12.1)\n",
            "Collecting deprecated>=1.2.6 (from opentelemetry-api>=1.2.0->chromadb)\n",
            "  Downloading Deprecated-1.2.14-py2.py3-none-any.whl (9.6 kB)\n",
            "Requirement already satisfied: importlib-metadata<=7.1,>=6.0 in /usr/local/lib/python3.10/dist-packages (from opentelemetry-api>=1.2.0->chromadb) (7.1.0)\n",
            "Requirement already satisfied: googleapis-common-protos~=1.52 in /usr/local/lib/python3.10/dist-packages (from opentelemetry-exporter-otlp-proto-grpc>=1.2.0->chromadb) (1.63.0)\n",
            "Collecting opentelemetry-exporter-otlp-proto-common==1.25.0 (from opentelemetry-exporter-otlp-proto-grpc>=1.2.0->chromadb)\n",
            "  Downloading opentelemetry_exporter_otlp_proto_common-1.25.0-py3-none-any.whl (17 kB)\n",
            "Collecting opentelemetry-proto==1.25.0 (from opentelemetry-exporter-otlp-proto-grpc>=1.2.0->chromadb)\n",
            "  Downloading opentelemetry_proto-1.25.0-py3-none-any.whl (52 kB)\n",
            "\u001b[2K     \u001b[90m━━━━━━━━━━━━━━━━━━━━━━━━━━━━━━━━━━━━━━━━\u001b[0m \u001b[32m52.5/52.5 kB\u001b[0m \u001b[31m6.5 MB/s\u001b[0m eta \u001b[36m0:00:00\u001b[0m\n",
            "\u001b[?25hCollecting opentelemetry-instrumentation-asgi==0.46b0 (from opentelemetry-instrumentation-fastapi>=0.41b0->chromadb)\n",
            "  Downloading opentelemetry_instrumentation_asgi-0.46b0-py3-none-any.whl (14 kB)\n",
            "Collecting opentelemetry-instrumentation==0.46b0 (from opentelemetry-instrumentation-fastapi>=0.41b0->chromadb)\n",
            "  Downloading opentelemetry_instrumentation-0.46b0-py3-none-any.whl (29 kB)\n",
            "Collecting opentelemetry-semantic-conventions==0.46b0 (from opentelemetry-instrumentation-fastapi>=0.41b0->chromadb)\n",
            "  Downloading opentelemetry_semantic_conventions-0.46b0-py3-none-any.whl (130 kB)\n",
            "\u001b[2K     \u001b[90m━━━━━━━━━━━━━━━━━━━━━━━━━━━━━━━━━━━━━━━━\u001b[0m \u001b[32m130.5/130.5 kB\u001b[0m \u001b[31m17.1 MB/s\u001b[0m eta \u001b[36m0:00:00\u001b[0m\n",
            "\u001b[?25hCollecting opentelemetry-util-http==0.46b0 (from opentelemetry-instrumentation-fastapi>=0.41b0->chromadb)\n",
            "  Downloading opentelemetry_util_http-0.46b0-py3-none-any.whl (6.9 kB)\n",
            "Requirement already satisfied: setuptools>=16.0 in /usr/local/lib/python3.10/dist-packages (from opentelemetry-instrumentation==0.46b0->opentelemetry-instrumentation-fastapi>=0.41b0->chromadb) (67.7.2)\n",
            "Collecting asgiref~=3.0 (from opentelemetry-instrumentation-asgi==0.46b0->opentelemetry-instrumentation-fastapi>=0.41b0->chromadb)\n",
            "  Downloading asgiref-3.8.1-py3-none-any.whl (23 kB)\n",
            "Collecting monotonic>=1.5 (from posthog>=2.4.0->chromadb)\n",
            "  Downloading monotonic-1.6-py2.py3-none-any.whl (8.2 kB)\n",
            "Requirement already satisfied: Pillow>=3.3.2 in /usr/local/lib/python3.10/dist-packages (from python-pptx<=0.6.23->unstructured[all-docs]) (9.4.0)\n",
            "Collecting XlsxWriter>=0.5.7 (from python-pptx<=0.6.23->unstructured[all-docs])\n",
            "  Downloading XlsxWriter-3.2.0-py3-none-any.whl (159 kB)\n",
            "\u001b[2K     \u001b[90m━━━━━━━━━━━━━━━━━━━━━━━━━━━━━━━━━━━━━━━━\u001b[0m \u001b[32m159.9/159.9 kB\u001b[0m \u001b[31m19.7 MB/s\u001b[0m eta \u001b[36m0:00:00\u001b[0m\n",
            "\u001b[?25hRequirement already satisfied: charset-normalizer<4,>=2 in /usr/local/lib/python3.10/dist-packages (from requests<3,>=2->langchain) (3.3.2)\n",
            "Requirement already satisfied: greenlet!=0.4.17 in /usr/local/lib/python3.10/dist-packages (from SQLAlchemy<3,>=1.4->langchain) (3.0.3)\n",
            "Requirement already satisfied: click<9.0.0,>=7.1.1 in /usr/local/lib/python3.10/dist-packages (from typer>=0.9.0->chromadb) (8.1.7)\n",
            "Collecting httptools>=0.5.0 (from uvicorn[standard]>=0.18.3->chromadb)\n",
            "  Downloading httptools-0.6.1-cp310-cp310-manylinux_2_5_x86_64.manylinux1_x86_64.manylinux_2_17_x86_64.manylinux2014_x86_64.whl (341 kB)\n",
            "\u001b[2K     \u001b[90m━━━━━━━━━━━━━━━━━━━━━━━━━━━━━━━━━━━━━━━━\u001b[0m \u001b[32m341.4/341.4 kB\u001b[0m \u001b[31m35.8 MB/s\u001b[0m eta \u001b[36m0:00:00\u001b[0m\n",
            "\u001b[?25hCollecting python-dotenv>=0.13 (from uvicorn[standard]>=0.18.3->chromadb)\n",
            "  Downloading python_dotenv-1.0.1-py3-none-any.whl (19 kB)\n",
            "Collecting uvloop!=0.15.0,!=0.15.1,>=0.14.0 (from uvicorn[standard]>=0.18.3->chromadb)\n",
            "  Downloading uvloop-0.19.0-cp310-cp310-manylinux_2_17_x86_64.manylinux2014_x86_64.whl (3.4 MB)\n",
            "\u001b[2K     \u001b[90m━━━━━━━━━━━━━━━━━━━━━━━━━━━━━━━━━━━━━━━━\u001b[0m \u001b[32m3.4/3.4 MB\u001b[0m \u001b[31m81.7 MB/s\u001b[0m eta \u001b[36m0:00:00\u001b[0m\n",
            "\u001b[?25hCollecting watchfiles>=0.13 (from uvicorn[standard]>=0.18.3->chromadb)\n",
            "  Downloading watchfiles-0.22.0-cp310-cp310-manylinux_2_17_x86_64.manylinux2014_x86_64.whl (1.2 MB)\n",
            "\u001b[2K     \u001b[90m━━━━━━━━━━━━━━━━━━━━━━━━━━━━━━━━━━━━━━━━\u001b[0m \u001b[32m1.2/1.2 MB\u001b[0m \u001b[31m73.5 MB/s\u001b[0m eta \u001b[36m0:00:00\u001b[0m\n",
            "\u001b[?25hCollecting websockets>=10.4 (from uvicorn[standard]>=0.18.3->chromadb)\n",
            "  Downloading websockets-12.0-cp310-cp310-manylinux_2_5_x86_64.manylinux1_x86_64.manylinux_2_17_x86_64.manylinux2014_x86_64.whl (130 kB)\n",
            "\u001b[2K     \u001b[90m━━━━━━━━━━━━━━━━━━━━━━━━━━━━━━━━━━━━━━━━\u001b[0m \u001b[32m130.2/130.2 kB\u001b[0m \u001b[31m17.7 MB/s\u001b[0m eta \u001b[36m0:00:00\u001b[0m\n",
            "\u001b[?25hRequirement already satisfied: soupsieve>1.2 in /usr/local/lib/python3.10/dist-packages (from beautifulsoup4->unstructured[all-docs]) (2.5)\n",
            "Collecting marshmallow<4.0.0,>=3.18.0 (from dataclasses-json->unstructured[all-docs])\n",
            "  Downloading marshmallow-3.21.2-py3-none-any.whl (49 kB)\n",
            "\u001b[2K     \u001b[90m━━━━━━━━━━━━━━━━━━━━━━━━━━━━━━━━━━━━━━━━\u001b[0m \u001b[32m49.3/49.3 kB\u001b[0m \u001b[31m6.9 MB/s\u001b[0m eta \u001b[36m0:00:00\u001b[0m\n",
            "\u001b[?25hCollecting typing-inspect<1,>=0.4.0 (from dataclasses-json->unstructured[all-docs])\n",
            "  Downloading typing_inspect-0.9.0-py3-none-any.whl (8.8 kB)\n",
            "Requirement already satisfied: torchvision in /usr/local/lib/python3.10/dist-packages (from effdet->unstructured[all-docs]) (0.18.0+cu121)\n",
            "Requirement already satisfied: pycocotools>=2.0.2 in /usr/local/lib/python3.10/dist-packages (from effdet->unstructured[all-docs]) (2.0.7)\n",
            "Collecting omegaconf>=2.0 (from effdet->unstructured[all-docs])\n",
            "  Downloading omegaconf-2.3.0-py3-none-any.whl (79 kB)\n",
            "\u001b[2K     \u001b[90m━━━━━━━━━━━━━━━━━━━━━━━━━━━━━━━━━━━━━━━━\u001b[0m \u001b[32m79.5/79.5 kB\u001b[0m \u001b[31m9.5 MB/s\u001b[0m eta \u001b[36m0:00:00\u001b[0m\n",
            "\u001b[?25hRequirement already satisfied: google-api-core[grpc]!=2.0.*,!=2.1.*,!=2.10.*,!=2.2.*,!=2.3.*,!=2.4.*,!=2.5.*,!=2.6.*,!=2.7.*,!=2.8.*,!=2.9.*,<3.0.0dev,>=1.34.1 in /usr/local/lib/python3.10/dist-packages (from google-cloud-vision->unstructured[all-docs]) (2.11.1)\n",
            "Requirement already satisfied: proto-plus<2.0.0dev,>=1.22.3 in /usr/local/lib/python3.10/dist-packages (from google-cloud-vision->unstructured[all-docs]) (1.23.0)\n",
            "Collecting olefile>=0.46 (from msg-parser->unstructured[all-docs])\n",
            "  Downloading olefile-0.47-py2.py3-none-any.whl (114 kB)\n",
            "\u001b[2K     \u001b[90m━━━━━━━━━━━━━━━━━━━━━━━━━━━━━━━━━━━━━━━━\u001b[0m \u001b[32m114.6/114.6 kB\u001b[0m \u001b[31m15.6 MB/s\u001b[0m eta \u001b[36m0:00:00\u001b[0m\n",
            "\u001b[?25hRequirement already satisfied: joblib in /usr/local/lib/python3.10/dist-packages (from nltk->unstructured[all-docs]) (1.4.2)\n",
            "Requirement already satisfied: et-xmlfile in /usr/local/lib/python3.10/dist-packages (from openpyxl->unstructured[all-docs]) (1.1.0)\n",
            "Requirement already satisfied: pytz>=2020.1 in /usr/local/lib/python3.10/dist-packages (from pandas->unstructured[all-docs]) (2023.4)\n",
            "Requirement already satisfied: tzdata>=2022.1 in /usr/local/lib/python3.10/dist-packages (from pandas->unstructured[all-docs]) (2024.1)\n",
            "Requirement already satisfied: cryptography>=36.0.0 in /usr/local/lib/python3.10/dist-packages (from pdfminer.six->unstructured[all-docs]) (42.0.7)\n",
            "Collecting Pillow>=3.3.2 (from python-pptx<=0.6.23->unstructured[all-docs])\n",
            "  Downloading pillow-10.3.0-cp310-cp310-manylinux_2_28_x86_64.whl (4.5 MB)\n",
            "\u001b[2K     \u001b[90m━━━━━━━━━━━━━━━━━━━━━━━━━━━━━━━━━━━━━━━━\u001b[0m \u001b[32m4.5/4.5 MB\u001b[0m \u001b[31m82.8 MB/s\u001b[0m eta \u001b[36m0:00:00\u001b[0m\n",
            "\u001b[?25hCollecting deepdiff>=6.0 (from unstructured-client->unstructured[all-docs])\n",
            "  Downloading deepdiff-7.0.1-py3-none-any.whl (80 kB)\n",
            "\u001b[2K     \u001b[90m━━━━━━━━━━━━━━━━━━━━━━━━━━━━━━━━━━━━━━━━\u001b[0m \u001b[32m80.8/80.8 kB\u001b[0m \u001b[31m9.9 MB/s\u001b[0m eta \u001b[36m0:00:00\u001b[0m\n",
            "\u001b[?25hCollecting jsonpath-python>=1.0.6 (from unstructured-client->unstructured[all-docs])\n",
            "  Downloading jsonpath_python-1.0.6-py3-none-any.whl (7.6 kB)\n",
            "Collecting mypy-extensions>=1.0.0 (from unstructured-client->unstructured[all-docs])\n",
            "  Downloading mypy_extensions-1.0.0-py3-none-any.whl (4.7 kB)\n",
            "Requirement already satisfied: nest-asyncio>=1.6.0 in /usr/local/lib/python3.10/dist-packages (from unstructured-client->unstructured[all-docs]) (1.6.0)\n",
            "Collecting requests-toolbelt>=1.0.0 (from unstructured-client->unstructured[all-docs])\n",
            "  Downloading requests_toolbelt-1.0.0-py2.py3-none-any.whl (54 kB)\n",
            "\u001b[2K     \u001b[90m━━━━━━━━━━━━━━━━━━━━━━━━━━━━━━━━━━━━━━━━\u001b[0m \u001b[32m54.5/54.5 kB\u001b[0m \u001b[31m6.1 MB/s\u001b[0m eta \u001b[36m0:00:00\u001b[0m\n",
            "\u001b[?25hRequirement already satisfied: cffi>=1.12 in /usr/local/lib/python3.10/dist-packages (from cryptography>=36.0.0->pdfminer.six->unstructured[all-docs]) (1.16.0)\n",
            "Collecting ordered-set<4.2.0,>=4.1.0 (from deepdiff>=6.0->unstructured-client->unstructured[all-docs])\n",
            "  Downloading ordered_set-4.1.0-py3-none-any.whl (7.6 kB)\n",
            "Collecting dnspython>=2.0.0 (from email_validator>=2.0.0->fastapi>=0.95.2->chromadb)\n",
            "  Downloading dnspython-2.6.1-py3-none-any.whl (307 kB)\n",
            "\u001b[2K     \u001b[90m━━━━━━━━━━━━━━━━━━━━━━━━━━━━━━━━━━━━━━━━\u001b[0m \u001b[32m307.7/307.7 kB\u001b[0m \u001b[31m30.3 MB/s\u001b[0m eta \u001b[36m0:00:00\u001b[0m\n",
            "\u001b[?25hCollecting typer>=0.9.0 (from chromadb)\n",
            "  Downloading typer-0.12.3-py3-none-any.whl (47 kB)\n",
            "\u001b[2K     \u001b[90m━━━━━━━━━━━━━━━━━━━━━━━━━━━━━━━━━━━━━━━━\u001b[0m \u001b[32m47.2/47.2 kB\u001b[0m \u001b[31m5.6 MB/s\u001b[0m eta \u001b[36m0:00:00\u001b[0m\n",
            "\u001b[?25hCollecting shellingham>=1.3.0 (from typer>=0.9.0->chromadb)\n",
            "  Downloading shellingham-1.5.4-py2.py3-none-any.whl (9.8 kB)\n",
            "Requirement already satisfied: rich>=10.11.0 in /usr/local/lib/python3.10/dist-packages (from typer>=0.9.0->chromadb) (13.7.1)\n",
            "Requirement already satisfied: grpcio-status<2.0.dev0,>=1.33.2 in /usr/local/lib/python3.10/dist-packages (from google-api-core[grpc]!=2.0.*,!=2.1.*,!=2.10.*,!=2.2.*,!=2.3.*,!=2.4.*,!=2.5.*,!=2.6.*,!=2.7.*,!=2.8.*,!=2.9.*,<3.0.0dev,>=1.34.1->google-cloud-vision->unstructured[all-docs]) (1.48.2)\n",
            "Requirement already satisfied: cachetools<6.0,>=2.0.0 in /usr/local/lib/python3.10/dist-packages (from google-auth>=1.0.1->kubernetes>=28.1.0->chromadb) (5.3.3)\n",
            "Requirement already satisfied: pyasn1-modules>=0.2.1 in /usr/local/lib/python3.10/dist-packages (from google-auth>=1.0.1->kubernetes>=28.1.0->chromadb) (0.4.0)\n",
            "Requirement already satisfied: rsa<5,>=3.1.4 in /usr/local/lib/python3.10/dist-packages (from google-auth>=1.0.1->kubernetes>=28.1.0->chromadb) (4.9)\n",
            "Requirement already satisfied: filelock in /usr/local/lib/python3.10/dist-packages (from huggingface-hub->unstructured-inference==0.7.33->unstructured[all-docs]) (3.14.0)\n",
            "Requirement already satisfied: fsspec>=2023.5.0 in /usr/local/lib/python3.10/dist-packages (from huggingface-hub->unstructured-inference==0.7.33->unstructured[all-docs]) (2023.6.0)\n",
            "Requirement already satisfied: zipp>=0.5 in /usr/local/lib/python3.10/dist-packages (from importlib-metadata<=7.1,>=6.0->opentelemetry-api>=1.2.0->chromadb) (3.19.0)\n",
            "Requirement already satisfied: MarkupSafe>=2.0 in /usr/local/lib/python3.10/dist-packages (from jinja2>=2.11.2->fastapi>=0.95.2->chromadb) (2.1.5)\n",
            "Collecting jsonpointer>=1.9 (from jsonpatch<2.0,>=1.33->langchain-core<0.3.0,>=0.2.0->langchain)\n",
            "  Downloading jsonpointer-2.4-py2.py3-none-any.whl (7.8 kB)\n",
            "Collecting antlr4-python3-runtime==4.9.* (from omegaconf>=2.0->effdet->unstructured[all-docs])\n",
            "  Downloading antlr4-python3-runtime-4.9.3.tar.gz (117 kB)\n",
            "\u001b[2K     \u001b[90m━━━━━━━━━━━━━━━━━━━━━━━━━━━━━━━━━━━━━━━━\u001b[0m \u001b[32m117.0/117.0 kB\u001b[0m \u001b[31m15.6 MB/s\u001b[0m eta \u001b[36m0:00:00\u001b[0m\n",
            "\u001b[?25h  Preparing metadata (setup.py) ... \u001b[?25l\u001b[?25hdone\n",
            "Requirement already satisfied: contourpy>=1.0.1 in /usr/local/lib/python3.10/dist-packages (from matplotlib->unstructured-inference==0.7.33->unstructured[all-docs]) (1.2.1)\n",
            "Requirement already satisfied: cycler>=0.10 in /usr/local/lib/python3.10/dist-packages (from matplotlib->unstructured-inference==0.7.33->unstructured[all-docs]) (0.12.1)\n",
            "Requirement already satisfied: fonttools>=4.22.0 in /usr/local/lib/python3.10/dist-packages (from matplotlib->unstructured-inference==0.7.33->unstructured[all-docs]) (4.52.4)\n",
            "Requirement already satisfied: kiwisolver>=1.0.1 in /usr/local/lib/python3.10/dist-packages (from matplotlib->unstructured-inference==0.7.33->unstructured[all-docs]) (1.4.5)\n",
            "Requirement already satisfied: pyparsing>=2.3.1 in /usr/local/lib/python3.10/dist-packages (from matplotlib->unstructured-inference==0.7.33->unstructured[all-docs]) (3.1.2)\n",
            "Requirement already satisfied: markdown-it-py>=2.2.0 in /usr/local/lib/python3.10/dist-packages (from rich>=10.11.0->typer>=0.9.0->chromadb) (3.0.0)\n",
            "Requirement already satisfied: pygments<3.0.0,>=2.13.0 in /usr/local/lib/python3.10/dist-packages (from rich>=10.11.0->typer>=0.9.0->chromadb) (2.16.1)\n",
            "Requirement already satisfied: safetensors in /usr/local/lib/python3.10/dist-packages (from timm->unstructured-inference==0.7.33->unstructured[all-docs]) (0.4.3)\n",
            "Collecting nvidia-cuda-nvrtc-cu12==12.1.105 (from torch->unstructured-inference==0.7.33->unstructured[all-docs])\n",
            "  Using cached nvidia_cuda_nvrtc_cu12-12.1.105-py3-none-manylinux1_x86_64.whl (23.7 MB)\n",
            "Collecting nvidia-cuda-runtime-cu12==12.1.105 (from torch->unstructured-inference==0.7.33->unstructured[all-docs])\n",
            "  Using cached nvidia_cuda_runtime_cu12-12.1.105-py3-none-manylinux1_x86_64.whl (823 kB)\n",
            "Collecting nvidia-cuda-cupti-cu12==12.1.105 (from torch->unstructured-inference==0.7.33->unstructured[all-docs])\n",
            "  Using cached nvidia_cuda_cupti_cu12-12.1.105-py3-none-manylinux1_x86_64.whl (14.1 MB)\n",
            "Collecting nvidia-cudnn-cu12==8.9.2.26 (from torch->unstructured-inference==0.7.33->unstructured[all-docs])\n",
            "  Using cached nvidia_cudnn_cu12-8.9.2.26-py3-none-manylinux1_x86_64.whl (731.7 MB)\n",
            "Collecting nvidia-cublas-cu12==12.1.3.1 (from torch->unstructured-inference==0.7.33->unstructured[all-docs])\n",
            "  Using cached nvidia_cublas_cu12-12.1.3.1-py3-none-manylinux1_x86_64.whl (410.6 MB)\n",
            "Collecting nvidia-cufft-cu12==11.0.2.54 (from torch->unstructured-inference==0.7.33->unstructured[all-docs])\n",
            "  Using cached nvidia_cufft_cu12-11.0.2.54-py3-none-manylinux1_x86_64.whl (121.6 MB)\n",
            "Collecting nvidia-curand-cu12==10.3.2.106 (from torch->unstructured-inference==0.7.33->unstructured[all-docs])\n",
            "  Using cached nvidia_curand_cu12-10.3.2.106-py3-none-manylinux1_x86_64.whl (56.5 MB)\n",
            "Collecting nvidia-cusolver-cu12==11.4.5.107 (from torch->unstructured-inference==0.7.33->unstructured[all-docs])\n",
            "  Using cached nvidia_cusolver_cu12-11.4.5.107-py3-none-manylinux1_x86_64.whl (124.2 MB)\n",
            "Collecting nvidia-cusparse-cu12==12.1.0.106 (from torch->unstructured-inference==0.7.33->unstructured[all-docs])\n",
            "  Using cached nvidia_cusparse_cu12-12.1.0.106-py3-none-manylinux1_x86_64.whl (196.0 MB)\n",
            "Collecting nvidia-nccl-cu12==2.20.5 (from torch->unstructured-inference==0.7.33->unstructured[all-docs])\n",
            "  Using cached nvidia_nccl_cu12-2.20.5-py3-none-manylinux2014_x86_64.whl (176.2 MB)\n",
            "Collecting nvidia-nvtx-cu12==12.1.105 (from torch->unstructured-inference==0.7.33->unstructured[all-docs])\n",
            "  Using cached nvidia_nvtx_cu12-12.1.105-py3-none-manylinux1_x86_64.whl (99 kB)\n",
            "Requirement already satisfied: triton==2.3.0 in /usr/local/lib/python3.10/dist-packages (from torch->unstructured-inference==0.7.33->unstructured[all-docs]) (2.3.0)\n",
            "Collecting nvidia-nvjitlink-cu12 (from nvidia-cusolver-cu12==11.4.5.107->torch->unstructured-inference==0.7.33->unstructured[all-docs])\n",
            "  Downloading nvidia_nvjitlink_cu12-12.5.40-py3-none-manylinux2014_x86_64.whl (21.3 MB)\n",
            "\u001b[2K     \u001b[90m━━━━━━━━━━━━━━━━━━━━━━━━━━━━━━━━━━━━━━━━\u001b[0m \u001b[32m21.3/21.3 MB\u001b[0m \u001b[31m57.2 MB/s\u001b[0m eta \u001b[36m0:00:00\u001b[0m\n",
            "\u001b[?25hCollecting humanfriendly>=9.1 (from coloredlogs->onnxruntime>=1.17.0->unstructured-inference==0.7.33->unstructured[all-docs])\n",
            "  Downloading humanfriendly-10.0-py2.py3-none-any.whl (86 kB)\n",
            "\u001b[2K     \u001b[90m━━━━━━━━━━━━━━━━━━━━━━━━━━━━━━━━━━━━━━━━\u001b[0m \u001b[32m86.8/86.8 kB\u001b[0m \u001b[31m11.9 MB/s\u001b[0m eta \u001b[36m0:00:00\u001b[0m\n",
            "\u001b[?25hRequirement already satisfied: scipy in /usr/local/lib/python3.10/dist-packages (from layoutparser->unstructured-inference==0.7.33->unstructured[all-docs]) (1.11.4)\n",
            "Collecting iopath (from layoutparser->unstructured-inference==0.7.33->unstructured[all-docs])\n",
            "  Downloading iopath-0.1.10.tar.gz (42 kB)\n",
            "\u001b[2K     \u001b[90m━━━━━━━━━━━━━━━━━━━━━━━━━━━━━━━━━━━━━━━━\u001b[0m \u001b[32m42.2/42.2 kB\u001b[0m \u001b[31m4.9 MB/s\u001b[0m eta \u001b[36m0:00:00\u001b[0m\n",
            "\u001b[?25h  Preparing metadata (setup.py) ... \u001b[?25l\u001b[?25hdone\n",
            "Collecting pdfplumber (from layoutparser->unstructured-inference==0.7.33->unstructured[all-docs])\n",
            "  Downloading pdfplumber-0.11.0-py3-none-any.whl (56 kB)\n",
            "\u001b[2K     \u001b[90m━━━━━━━━━━━━━━━━━━━━━━━━━━━━━━━━━━━━━━━━\u001b[0m \u001b[32m56.4/56.4 kB\u001b[0m \u001b[31m7.2 MB/s\u001b[0m eta \u001b[36m0:00:00\u001b[0m\n",
            "\u001b[?25hRequirement already satisfied: mpmath<1.4.0,>=1.1.0 in /usr/local/lib/python3.10/dist-packages (from sympy->onnxruntime>=1.17.0->unstructured-inference==0.7.33->unstructured[all-docs]) (1.3.0)\n",
            "Requirement already satisfied: pycparser in /usr/local/lib/python3.10/dist-packages (from cffi>=1.12->cryptography>=36.0.0->pdfminer.six->unstructured[all-docs]) (2.22)\n",
            "Requirement already satisfied: mdurl~=0.1 in /usr/local/lib/python3.10/dist-packages (from markdown-it-py>=2.2.0->rich>=10.11.0->typer>=0.9.0->chromadb) (0.1.2)\n",
            "Requirement already satisfied: pyasn1<0.7.0,>=0.4.6 in /usr/local/lib/python3.10/dist-packages (from pyasn1-modules>=0.2.1->google-auth>=1.0.1->kubernetes>=28.1.0->chromadb) (0.6.0)\n",
            "Collecting portalocker (from iopath->layoutparser->unstructured-inference==0.7.33->unstructured[all-docs])\n",
            "  Downloading portalocker-2.8.2-py3-none-any.whl (17 kB)\n",
            "Collecting pypdfium2>=4.18.0 (from pdfplumber->layoutparser->unstructured-inference==0.7.33->unstructured[all-docs])\n",
            "  Downloading pypdfium2-4.30.0-py3-none-manylinux_2_17_x86_64.manylinux2014_x86_64.whl (2.8 MB)\n",
            "\u001b[2K     \u001b[90m━━━━━━━━━━━━━━━━━━━━━━━━━━━━━━━━━━━━━━━━\u001b[0m \u001b[32m2.8/2.8 MB\u001b[0m \u001b[31m53.3 MB/s\u001b[0m eta \u001b[36m0:00:00\u001b[0m\n",
            "\u001b[?25hBuilding wheels for collected packages: pypika, langdetect, antlr4-python3-runtime, iopath\n",
            "  Building wheel for pypika (pyproject.toml) ... \u001b[?25l\u001b[?25hdone\n",
            "  Created wheel for pypika: filename=PyPika-0.48.9-py2.py3-none-any.whl size=53724 sha256=2725af20069369788fa052154200e24a02c378c1e2f5c25d0a50688ac14d2859\n",
            "  Stored in directory: /root/.cache/pip/wheels/e1/26/51/d0bffb3d2fd82256676d7ad3003faea3bd6dddc9577af665f4\n",
            "  Building wheel for langdetect (setup.py) ... \u001b[?25l\u001b[?25hdone\n",
            "  Created wheel for langdetect: filename=langdetect-1.0.9-py3-none-any.whl size=993227 sha256=2a800fdf47533d4fcf6cae741988dbfd771587bd0794955c895325ae1c9c1b8c\n",
            "  Stored in directory: /root/.cache/pip/wheels/95/03/7d/59ea870c70ce4e5a370638b5462a7711ab78fba2f655d05106\n",
            "  Building wheel for antlr4-python3-runtime (setup.py) ... \u001b[?25l\u001b[?25hdone\n",
            "  Created wheel for antlr4-python3-runtime: filename=antlr4_python3_runtime-4.9.3-py3-none-any.whl size=144554 sha256=24e8a59d5d77e469d32779bc84ad697af7c14c1314429879b841a9815efdf135\n",
            "  Stored in directory: /root/.cache/pip/wheels/12/93/dd/1f6a127edc45659556564c5730f6d4e300888f4bca2d4c5a88\n",
            "  Building wheel for iopath (setup.py) ... \u001b[?25l\u001b[?25hdone\n",
            "  Created wheel for iopath: filename=iopath-0.1.10-py3-none-any.whl size=31532 sha256=8cab9cc5b870eafb7923df2a100b40eb0ed5c1d8cffa91cdd256d542a61a1b07\n",
            "  Stored in directory: /root/.cache/pip/wheels/9a/a3/b6/ac0fcd1b4ed5cfeb3db92e6a0e476cfd48ed0df92b91080c1d\n",
            "Successfully built pypika langdetect antlr4-python3-runtime iopath\n",
            "Installing collected packages: pypika, monotonic, mmh3, filetype, antlr4-python3-runtime, XlsxWriter, websockets, uvloop, ujson, shellingham, rapidfuzz, python-multipart, python-magic, python-iso639, python-dotenv, python-docx, pypdfium2, pypdf, pypandoc, portalocker, Pillow, packaging, overrides, orjson, ordered-set, opentelemetry-util-http, opentelemetry-proto, onnx, omegaconf, olefile, nvidia-nvtx-cu12, nvidia-nvjitlink-cu12, nvidia-nccl-cu12, nvidia-curand-cu12, nvidia-cufft-cu12, nvidia-cuda-runtime-cu12, nvidia-cuda-nvrtc-cu12, nvidia-cuda-cupti-cu12, nvidia-cublas-cu12, mypy-extensions, langdetect, jsonpointer, jsonpath-python, humanfriendly, httptools, h11, emoji, dnspython, deprecated, chroma-hnswlib, bcrypt, backoff, asgiref, watchfiles, uvicorn, unstructured.pytesseract, typing-inspect, tiktoken, starlette, requests-toolbelt, python-pptx, pytesseract, posthog, pillow-heif, pikepdf, pdf2image, opentelemetry-exporter-otlp-proto-common, opentelemetry-api, nvidia-cusparse-cu12, nvidia-cudnn-cu12, msg-parser, marshmallow, jsonpatch, iopath, httpcore, email_validator, deepdiff, coloredlogs, typer, pdfminer.six, opentelemetry-semantic-conventions, opentelemetry-instrumentation, onnxruntime, nvidia-cusolver-cu12, langsmith, kubernetes, httpx, dataclasses-json, unstructured-client, pdfplumber, opentelemetry-sdk, opentelemetry-instrumentation-asgi, openai, langchain-core, fastapi-cli, unstructured, opentelemetry-instrumentation-fastapi, opentelemetry-exporter-otlp-proto-grpc, layoutparser, langchain-text-splitters, google-cloud-vision, fastapi, timm, langchain, chromadb, unstructured-inference, effdet\n",
            "  Attempting uninstall: Pillow\n",
            "    Found existing installation: Pillow 9.4.0\n",
            "    Uninstalling Pillow-9.4.0:\n",
            "      Successfully uninstalled Pillow-9.4.0\n",
            "  Attempting uninstall: packaging\n",
            "    Found existing installation: packaging 24.0\n",
            "    Uninstalling packaging-24.0:\n",
            "      Successfully uninstalled packaging-24.0\n",
            "  Attempting uninstall: typer\n",
            "    Found existing installation: typer 0.9.4\n",
            "    Uninstalling typer-0.9.4:\n",
            "      Successfully uninstalled typer-0.9.4\n",
            "\u001b[31mERROR: pip's dependency resolver does not currently take into account all the packages that are installed. This behaviour is the source of the following dependency conflicts.\n",
            "imageio 2.31.6 requires pillow<10.1.0,>=8.3.2, but you have pillow 10.3.0 which is incompatible.\n",
            "spacy 3.7.4 requires typer<0.10.0,>=0.3.0, but you have typer 0.12.3 which is incompatible.\n",
            "weasel 0.3.4 requires typer<0.10.0,>=0.3.0, but you have typer 0.12.3 which is incompatible.\u001b[0m\u001b[31m\n",
            "\u001b[0mSuccessfully installed Pillow-10.3.0 XlsxWriter-3.2.0 antlr4-python3-runtime-4.9.3 asgiref-3.8.1 backoff-2.2.1 bcrypt-4.1.3 chroma-hnswlib-0.7.3 chromadb-0.5.0 coloredlogs-15.0.1 dataclasses-json-0.6.6 deepdiff-7.0.1 deprecated-1.2.14 dnspython-2.6.1 effdet-0.4.1 email_validator-2.1.1 emoji-2.12.1 fastapi-0.111.0 fastapi-cli-0.0.4 filetype-1.2.0 google-cloud-vision-3.7.2 h11-0.14.0 httpcore-1.0.5 httptools-0.6.1 httpx-0.27.0 humanfriendly-10.0 iopath-0.1.10 jsonpatch-1.33 jsonpath-python-1.0.6 jsonpointer-2.4 kubernetes-29.0.0 langchain-0.2.2 langchain-core-0.2.4 langchain-text-splitters-0.2.1 langdetect-1.0.9 langsmith-0.1.71 layoutparser-0.3.4 marshmallow-3.21.2 mmh3-4.1.0 monotonic-1.6 msg-parser-1.2.0 mypy-extensions-1.0.0 nvidia-cublas-cu12-12.1.3.1 nvidia-cuda-cupti-cu12-12.1.105 nvidia-cuda-nvrtc-cu12-12.1.105 nvidia-cuda-runtime-cu12-12.1.105 nvidia-cudnn-cu12-8.9.2.26 nvidia-cufft-cu12-11.0.2.54 nvidia-curand-cu12-10.3.2.106 nvidia-cusolver-cu12-11.4.5.107 nvidia-cusparse-cu12-12.1.0.106 nvidia-nccl-cu12-2.20.5 nvidia-nvjitlink-cu12-12.5.40 nvidia-nvtx-cu12-12.1.105 olefile-0.47 omegaconf-2.3.0 onnx-1.16.1 onnxruntime-1.18.0 openai-1.31.0 opentelemetry-api-1.25.0 opentelemetry-exporter-otlp-proto-common-1.25.0 opentelemetry-exporter-otlp-proto-grpc-1.25.0 opentelemetry-instrumentation-0.46b0 opentelemetry-instrumentation-asgi-0.46b0 opentelemetry-instrumentation-fastapi-0.46b0 opentelemetry-proto-1.25.0 opentelemetry-sdk-1.25.0 opentelemetry-semantic-conventions-0.46b0 opentelemetry-util-http-0.46b0 ordered-set-4.1.0 orjson-3.10.3 overrides-7.7.0 packaging-23.2 pdf2image-1.17.0 pdfminer.six-20231228 pdfplumber-0.11.0 pikepdf-9.0.0 pillow-heif-0.16.0 portalocker-2.8.2 posthog-3.5.0 pypandoc-1.13 pypdf-4.2.0 pypdfium2-4.30.0 pypika-0.48.9 pytesseract-0.3.10 python-docx-1.1.2 python-dotenv-1.0.1 python-iso639-2024.4.27 python-magic-0.4.27 python-multipart-0.0.9 python-pptx-0.6.23 rapidfuzz-3.9.3 requests-toolbelt-1.0.0 shellingham-1.5.4 starlette-0.37.2 tiktoken-0.7.0 timm-1.0.3 typer-0.12.3 typing-inspect-0.9.0 ujson-5.10.0 unstructured-0.14.4 unstructured-client-0.23.0 unstructured-inference-0.7.33 unstructured.pytesseract-0.3.12 uvicorn-0.30.1 uvloop-0.19.0 watchfiles-0.22.0 websockets-12.0\n"
          ]
        },
        {
          "output_type": "display_data",
          "data": {
            "application/vnd.colab-display-data+json": {
              "pip_warning": {
                "packages": [
                  "PIL",
                  "google",
                  "pydevd_plugins"
                ]
              },
              "id": "273b7fd7a7774bc4a7b26b758d2afcf8"
            }
          },
          "metadata": {}
        }
      ]
    },
    {
      "cell_type": "code",
      "source": [
        "import os\n",
        "import uuid\n",
        "import base64\n",
        "from IPython import display\n",
        "from unstructured.partition.pdf import partition_pdf\n",
        "from langchain.chat_models import ChatOpenAI\n",
        "from langchain.embeddings import OpenAIEmbeddings\n",
        "from langchain.chains import LLMChain\n",
        "from langchain.prompts import PromptTemplate\n",
        "from langchain.schema.messages import HumanMessage, SystemMessage\n",
        "from langchain.schema.document import Document\n",
        "from langchain.vectorstores import FAISS\n",
        "from langchain.retrievers.multi_vector import MultiVectorRetriever"
      ],
      "metadata": {
        "id": "zgVzU60oAYb3"
      },
      "execution_count": null,
      "outputs": []
    },
    {
      "cell_type": "code",
      "source": [
        "from google.colab import userdata"
      ],
      "metadata": {
        "id": "0WQNl42bBM1O"
      },
      "execution_count": null,
      "outputs": []
    },
    {
      "cell_type": "code",
      "source": [
        "openai_api_key=userdata.get('OPENAI_API_KEY')"
      ],
      "metadata": {
        "id": "glbR17O_BUHc"
      },
      "execution_count": null,
      "outputs": []
    },
    {
      "cell_type": "code",
      "source": [
        "output_path = \"./images\""
      ],
      "metadata": {
        "id": "37IAXsJYD2_p"
      },
      "execution_count": null,
      "outputs": []
    },
    {
      "cell_type": "code",
      "source": [
        "#get element\n",
        "raw_pdf_elements = partition_pdf(\n",
        "    filename=\"/content/VetClinNorthAmSmallAnimPract2014442303-324.pdf\"   ,\n",
        "    extract_images_in_pdf=True,\n",
        "    infer_table_structure=True,\n",
        "    chunking_strategy=\"by_title\",\n",
        "    max_characters=4000,\n",
        "    new_after_n_chars=3800,\n",
        "    combine_text_under_n_chars=2000,\n",
        "    extract_image_block_output_dir=output_path,\n",
        ")"
      ],
      "metadata": {
        "id": "DcVIuMO5BeLc"
      },
      "execution_count": null,
      "outputs": []
    },
    {
      "cell_type": "code",
      "source": [
        "text_elements = []\n",
        "table_elements = []\n",
        "\n",
        "text_summaries = []\n",
        "table_summaries = []\n",
        "summary_prompt=\"\"\"\n",
        "Summarize the following {element_type}:\n",
        "{element}\"\"\"\n"
      ],
      "metadata": {
        "id": "0NeoAzMKGApK"
      },
      "execution_count": null,
      "outputs": []
    },
    {
      "cell_type": "code",
      "source": [
        "summary_chain= LLMChain(\n",
        "    llm=ChatOpenAI(model=\"gpt-3.5-turbo\" , openai_api_key=openai_api_key , max_tokens=1024),\n",
        "    prompt=PromptTemplate.from_template(summary_prompt)\n",
        "\n",
        ")"
      ],
      "metadata": {
        "colab": {
          "base_uri": "https://localhost:8080/"
        },
        "id": "CXO9ewfpG9rY",
        "outputId": "5d7d31c1-75d5-4e4c-be4f-367ee1f4cda4"
      },
      "execution_count": null,
      "outputs": [
        {
          "output_type": "stream",
          "name": "stderr",
          "text": [
            "/usr/local/lib/python3.10/dist-packages/langchain_core/_api/deprecation.py:119: LangChainDeprecationWarning: The class `ChatOpenAI` was deprecated in LangChain 0.0.10 and will be removed in 0.3.0. An updated version of the class exists in the langchain-openai package and should be used instead. To use it run `pip install -U langchain-openai` and import as `from langchain_openai import ChatOpenAI`.\n",
            "  warn_deprecated(\n",
            "/usr/local/lib/python3.10/dist-packages/langchain_core/_api/deprecation.py:119: LangChainDeprecationWarning: The class `LLMChain` was deprecated in LangChain 0.1.17 and will be removed in 0.3.0. Use RunnableSequence, e.g., `prompt | llm` instead.\n",
            "  warn_deprecated(\n"
          ]
        }
      ]
    },
    {
      "cell_type": "code",
      "source": [
        "\n",
        "for e in raw_pdf_elements:\n",
        "    if 'CompositeElement' in repr(e):\n",
        "        text_elements.append(e.text)\n",
        "        summary = summary_chain.run({'element_type': 'text', 'element': e})\n",
        "        text_summaries.append(summary)\n",
        "\n",
        "    elif 'Table' in repr(e):\n",
        "        table_elements.append(e.text)\n",
        "        summary = summary_chain.run({'element_type': 'table', 'element': e})\n",
        "        table_summaries.append(summary)"
      ],
      "metadata": {
        "id": "bcKlKflrHzPp"
      },
      "execution_count": null,
      "outputs": []
    },
    {
      "cell_type": "code",
      "source": [
        "# Get image summaries\n",
        "image_elements = []\n",
        "image_summaries = []\n",
        "\n",
        "def encode_image(image_path):\n",
        "    with open(image_path, \"rb\") as f:\n",
        "        return base64.b64encode(f.read()).decode('utf-8')\n",
        "\n",
        "def summarize_image(encoded_image):\n",
        "    prompt = [\n",
        "        SystemMessage(content=\"You are a bot that is good at analyzing images.\"),\n",
        "        HumanMessage(content=[\n",
        "            {\n",
        "                \"type\": \"text\",\n",
        "                \"text\": \"Describe the contents of this image.\"\n",
        "            },\n",
        "            {\n",
        "                \"type\": \"image_url\",\n",
        "                \"image_url\": {\n",
        "                    \"url\": f\"data:image/jpeg;base64,{encoded_image}\"\n",
        "                },\n",
        "            },\n",
        "        ])\n",
        "    ]\n",
        "    response = ChatOpenAI(model=\"gpt-4-vision-preview\", openai_api_key=openai_api_key, max_tokens=1024).invoke(prompt)\n",
        "    return response.content\n",
        "\n",
        "for i in os.listdir(output_path):\n",
        "    if i.endswith(('.png', '.jpg', '.jpeg')):\n",
        "        image_path = os.path.join(output_path, i)\n",
        "        encoded_image = encode_image(image_path)\n",
        "        image_elements.append(encoded_image)\n",
        "        summary = summarize_image(encoded_image)\n",
        "        image_summaries.append(summary)"
      ],
      "metadata": {
        "id": "jhRqQ4OEJiEg"
      },
      "execution_count": null,
      "outputs": []
    },
    {
      "cell_type": "code",
      "source": [
        "\n",
        "!pip install faiss-cpu"
      ],
      "metadata": {
        "colab": {
          "base_uri": "https://localhost:8080/"
        },
        "id": "cCypiOcUKiN8",
        "outputId": "d10d2670-bfaa-4bfb-e1f2-0fb2b63fff54"
      },
      "execution_count": null,
      "outputs": [
        {
          "output_type": "stream",
          "name": "stdout",
          "text": [
            "Collecting faiss-cpu\n",
            "  Downloading faiss_cpu-1.8.0-cp310-cp310-manylinux_2_17_x86_64.manylinux2014_x86_64.whl (27.0 MB)\n",
            "\u001b[2K     \u001b[90m━━━━━━━━━━━━━━━━━━━━━━━━━━━━━━━━━━━━━━━━\u001b[0m \u001b[32m27.0/27.0 MB\u001b[0m \u001b[31m29.9 MB/s\u001b[0m eta \u001b[36m0:00:00\u001b[0m\n",
            "\u001b[?25hRequirement already satisfied: numpy in /usr/local/lib/python3.10/dist-packages (from faiss-cpu) (1.25.2)\n",
            "Installing collected packages: faiss-cpu\n",
            "Successfully installed faiss-cpu-1.8.0\n"
          ]
        }
      ]
    },
    {
      "cell_type": "code",
      "source": [
        "# Create Documents and Vectorstore\n",
        "documents = []\n",
        "retrieve_contents = []\n",
        "\n",
        "for e, s in zip(text_elements, text_summaries):\n",
        "    i = str(uuid.uuid4())\n",
        "    doc = Document(\n",
        "        page_content = s,\n",
        "        metadata = {\n",
        "            'id': i,\n",
        "            'type': 'text',\n",
        "            'original_content': e\n",
        "        }\n",
        "    )\n",
        "    retrieve_contents.append((i, e))\n",
        "    documents.append(doc)\n",
        "\n",
        "for e, s in zip(table_elements, table_summaries):\n",
        "    doc = Document(\n",
        "        page_content = s,\n",
        "        metadata = {\n",
        "            'id': i,\n",
        "            'type': 'table',\n",
        "            'original_content': e\n",
        "        }\n",
        "    )\n",
        "    retrieve_contents.append((i, e))\n",
        "    documents.append(doc)\n",
        "\n",
        "for e, s in zip(image_elements, image_summaries):\n",
        "    doc = Document(\n",
        "        page_content = s,\n",
        "        metadata = {\n",
        "            'id': i,\n",
        "            'type': 'image',\n",
        "            'original_content': e\n",
        "        }\n",
        "    )\n",
        "    retrieve_contents.append((i, s))\n",
        "    documents.append(doc)\n",
        "\n",
        "vectorstore = FAISS.from_documents(documents=documents, embedding=OpenAIEmbeddings(openai_api_key=openai_api_key))"
      ],
      "metadata": {
        "id": "FtIPq9FuJuQw"
      },
      "execution_count": null,
      "outputs": []
    },
    {
      "cell_type": "code",
      "source": [
        "vectorstore.save_local(\"faiss_index\")"
      ],
      "metadata": {
        "id": "QFb6NwM_Krct"
      },
      "execution_count": null,
      "outputs": []
    },
    {
      "cell_type": "code",
      "source": [
        "embeddings=OpenAIEmbeddings(openai_api_key=openai_api_key)\n"
      ],
      "metadata": {
        "id": "jNrnYCMVKwMf"
      },
      "execution_count": null,
      "outputs": []
    },
    {
      "cell_type": "code",
      "source": [
        "db = FAISS.load_local(\"faiss_index\", embeddings, allow_dangerous_deserialization=True)\n"
      ],
      "metadata": {
        "id": "1XaxEQtrK57s"
      },
      "execution_count": null,
      "outputs": []
    },
    {
      "cell_type": "code",
      "source": [
        "prompt_template = \"\"\"\n",
        "You are an expert in Hardware related products and related product guides that contains specification, features, etc.\n",
        "Answer the question based only on the following context, which can include text,\n",
        "images and tables:\n",
        "{context}\n",
        "Question: {question}\n",
        "Don't answer if you are not sure and decline to answer and say \"Sorry, I don't have much information about it.\"\n",
        "Just return the helpful answer in as much as detailed possible.\n",
        "Answer:\n",
        "\"\"\""
      ],
      "metadata": {
        "id": "JvVLAcBILsjJ"
      },
      "execution_count": null,
      "outputs": []
    },
    {
      "cell_type": "code",
      "source": [
        "qa_chain = LLMChain(llm=ChatOpenAI(model=\"gpt-4\", openai_api_key = openai_api_key, max_tokens=1024),\n",
        "                        prompt=PromptTemplate.from_template(prompt_template))\n"
      ],
      "metadata": {
        "id": "JJJDQOGIMgtZ"
      },
      "execution_count": null,
      "outputs": []
    },
    {
      "cell_type": "code",
      "source": [
        "\n",
        "qa_chain"
      ],
      "metadata": {
        "colab": {
          "base_uri": "https://localhost:8080/"
        },
        "id": "jrPszqLmM4rv",
        "outputId": "fe88e94b-4688-459d-cd37-916f7802ac17"
      },
      "execution_count": null,
      "outputs": [
        {
          "output_type": "execute_result",
          "data": {
            "text/plain": [
              "LLMChain(prompt=PromptTemplate(input_variables=['context', 'question'], template='\\nYou are an expert in Hardware related products and related product guides that contains specification, features, etc.\\nAnswer the question based only on the following context, which can include text,\\nimages and tables:\\n{context}\\nQuestion: {question}\\nDon\\'t answer if you are not sure and decline to answer and say \"Sorry, I don\\'t have much information about it.\"\\nJust return the helpful answer in as much as detailed possible.\\nAnswer:\\n'), llm=ChatOpenAI(client=<openai.resources.chat.completions.Completions object at 0x780a8ac1df30>, async_client=<openai.resources.chat.completions.AsyncCompletions object at 0x780a8ac58280>, model_name='gpt-4', openai_api_key='sk-proj-zWxR6tVhop4UuI3hkIsXT3BlbkFJo4ZdFapmAvAlIaBp7eW3', openai_proxy='', max_tokens=1024))"
            ]
          },
          "metadata": {},
          "execution_count": 81
        }
      ]
    },
    {
      "cell_type": "code",
      "source": [
        "\n",
        "def answer(question):\n",
        "    relevant_docs = vectorstore.similarity_search(question)\n",
        "    context = \"\"\n",
        "    relevant_images = []\n",
        "    for d in relevant_docs:\n",
        "        if d.metadata['type'] == 'text':\n",
        "            context += '[text]' + d.metadata['original_content']\n",
        "        elif d.metadata['type'] == 'table':\n",
        "            context += '[table]' + d.metadata['original_content']\n",
        "        elif d.metadata['type'] == 'image':\n",
        "            context += '[image]' + d.page_content\n",
        "            relevant_images.append(d.metadata['original_content'])\n",
        "    result = qa_chain.run({'context': context, 'question': question})\n",
        "    return result, relevant_images"
      ],
      "metadata": {
        "id": "hvQjZImzM-UM"
      },
      "execution_count": null,
      "outputs": []
    },
    {
      "cell_type": "code",
      "source": [
        "# result, relevant_images = answer(\"what is MALOCCLUSIONS\")\n",
        "result, relevant_images = answer(\"what is Fig. 18.\")\n"
      ],
      "metadata": {
        "id": "fmTvXuV2NMfH"
      },
      "execution_count": null,
      "outputs": []
    },
    {
      "cell_type": "code",
      "source": [
        "result"
      ],
      "metadata": {
        "colab": {
          "base_uri": "https://localhost:8080/",
          "height": 36
        },
        "id": "YgxQ1EioP8Ei",
        "outputId": "5c38f21d-968c-4b2c-e094-5e4c7e840bd3"
      },
      "execution_count": null,
      "outputs": [
        {
          "output_type": "execute_result",
          "data": {
            "text/plain": [
              "\"Sorry, I don't have much information about it.\""
            ],
            "application/vnd.google.colaboratory.intrinsic+json": {
              "type": "string"
            }
          },
          "metadata": {},
          "execution_count": 88
        }
      ]
    },
    {
      "cell_type": "code",
      "source": [
        "relevant_images"
      ],
      "metadata": {
        "colab": {
          "base_uri": "https://localhost:8080/"
        },
        "id": "D7zbbh5mQDcN",
        "outputId": "ed3229ad-2384-4cc8-d996-898bd2487474"
      },
      "execution_count": null,
      "outputs": [
        {
          "output_type": "execute_result",
          "data": {
            "text/plain": [
              "['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',\n",
              " '/9j/4AAQSkZJRgABAQAAAQABAAD/2wBDAAgGBgcGBQgHBwcJCQgKDBQNDAsLDBkSEw8UHRofHh0aHBwgJC4nICIsIxwcKDcpLDAxNDQ0Hyc5PTgyPC4zNDL/2wBDAQkJCQwLDBgNDRgyIRwhMjIyMjIyMjIyMjIyMjIyMjIyMjIyMjIyMjIyMjIyMjIyMjIyMjIyMjIyMjIyMjIyMjL/wAARCAA0ADUDASIAAhEBAxEB/8QAHwAAAQUBAQEBAQEAAAAAAAAAAAECAwQFBgcICQoL/8QAtRAAAgEDAwIEAwUFBAQAAAF9AQIDAAQRBRIhMUEGE1FhByJxFDKBkaEII0KxwRVS0fAkM2JyggkKFhcYGRolJicoKSo0NTY3ODk6Q0RFRkdISUpTVFVWV1hZWmNkZWZnaGlqc3R1dnd4eXqDhIWGh4iJipKTlJWWl5iZmqKjpKWmp6ipqrKztLW2t7i5usLDxMXGx8jJytLT1NXW19jZ2uHi4+Tl5ufo6erx8vP09fb3+Pn6/8QAHwEAAwEBAQEBAQEBAQAAAAAAAAECAwQFBgcICQoL/8QAtREAAgECBAQDBAcFBAQAAQJ3AAECAxEEBSExBhJBUQdhcRMiMoEIFEKRobHBCSMzUvAVYnLRChYkNOEl8RcYGRomJygpKjU2Nzg5OkNERUZHSElKU1RVVldYWVpjZGVmZ2hpanN0dXZ3eHl6goOEhYaHiImKkpOUlZaXmJmaoqOkpaanqKmqsrO0tba3uLm6wsPExcbHyMnK0tPU1dbX2Nna4uPk5ebn6Onq8vP09fb3+Pn6/9oADAMBAAIRAxEAPwD3+mPIFUnIAHUmlJrh/iFqskUFpo8MzQtfbvMZTglOm36Enn6Um7K4IydW+MNhb37WulafLf7c7pmby4/w4JIrMk+Mt5BNiXQo3QjI2SsOPqQc1c0rw9aWsJC28YDccjJb86mvtPhMZxHH8o4yo4rmdZnasJdbnR+DPHen+MrSWSzWSGaAgSwSkFlz3yOorrFYN9a8CLyeGNTi1fTz9mmZtkoQYWZTzhh0xxXt2mX8Wp6bb38GQkyBwD1Hsa2hPmRyzg4SszRopAcjNFaECda80+JCKniTQrko0nlJKXVBk4HI475INelCuR8Z2StLZ3oQbkO1j6gHI/IkmoqP3TSlHmmkef3HjO8trkuLUTQM2FUx4x04DBuTz6Uan43b7OPI0uYMyg7pUIAyMjAOCf5e9buqQ2TRxvFA8jE5dQVwo7/ien41iQXNrd3OJbFo1VVABK/LjjAwe3/6q5klbY77TXUxL24vtY0e4gNs7zhhsYJsG7IwuMn1/SvbfCgiHhXTEhxtS3VDj+8OG/UGvOZgiTIsS7Ru67ufzr1DRrcWujWkXl+WRGCV9CeT+prWlu7HNiIcqTb1NBDjNFAFFbnKLjBqnqlml9ps8BjRmaNtm4Zw2ODV4jNcX4/8ax+FdGnS0ZJdYeMfZ4SuQMnG5vYc8d6TVwTs7nHx+ZdsFWR4XiByoIXd269qo3MN20j+ZO0ZA43OJB+oFTX2lXnlLc+f5d46gzMi/Kz4+bA+uax7e21K6YrdXJO0kdAM1zLbQ7/aWVmjt/A0SX2tPK2CtvESA3PJwB/X9K9KrxSDxHP4KvbC4jiWWxnmEN2NuX2kEgr7gj/PWvYNL1G21jToL+0Zmt5l3IzKVJ/A1tT+E5KrfNqXVHFFLRWhmFZ+r6Hpuu2pttStI50/hJ4Zf91hyPwoooAwNW06Gz2wqzupTBLkEnH0FcgbaNbkgZxknrRRXI9zujqkdnp/g/Rru3tbu8tjdOpEqrMcoGxjO3oep65rqgAoAAAA4AFFFdMNjkqfExaKKKog/9k=',\n",
              " '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']"
            ]
          },
          "metadata": {},
          "execution_count": 89
        }
      ]
    },
    {
      "cell_type": "code",
      "source": [
        "display.display(display.Image(base64.b64decode(relevant_images[0])))"
      ],
      "metadata": {
        "colab": {
          "base_uri": "https://localhost:8080/",
          "height": 371
        },
        "id": "0Z7tW9pLRgEH",
        "outputId": "830c5ba7-9a26-4a04-e11d-96bcca5305d4"
      },
      "execution_count": null,
      "outputs": [
        {
          "output_type": "display_data",
          "data": {
            "image/jpeg": "[encoded data removed]",
            "text/plain": [
              "<IPython.core.display.Image object>"
            ]
          },
          "metadata": {}
        }
      ]
    }
  ]
}